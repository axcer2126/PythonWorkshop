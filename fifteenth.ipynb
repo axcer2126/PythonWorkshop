{
 "cells": [
  {
   "cell_type": "code",
   "execution_count": 1,
   "metadata": {},
   "outputs": [],
   "source": [
    "import cv2"
   ]
  },
  {
   "cell_type": "code",
   "execution_count": 2,
   "metadata": {},
   "outputs": [],
   "source": [
    "# sudo apt-get install pkg-config\n",
    "# pkg-config --modversion opencv\n",
    "# sudo apt-get install build-essential cmake\n",
    "# sudo apt-get install freeglut3 freeglut3-dev\n",
    "# sudo apt-get install glew-utils glee-dev\n",
    "# sudo apt-get install libglew-dev\n",
    "# sudo apt-get install libjpeg-dev libtiff5-dev libpng-dev\n",
    "# sudo apt-get install libavcodec-dev libavformat-dev libswscale-dev libxvidcore-dev libx264-dev libxine2-dev\n",
    "# sudo apt-get install libv4l-dev v4l-utils\n",
    "# sudo apt-get install libgstreamer1.0-dev libgstreamer-plugins-base1.0-dev\n",
    "# sudo apt-get install libgtk2.0-dev\n",
    "# sudo apt-get install mesa-utils libgl1-mesa-dri libgtkgl2.0-dev libgtkglext1-dev\n",
    "# sudo apt-get install libatlas-base-dev gfortran libeigen3-dev"
   ]
  },
  {
   "cell_type": "code",
   "execution_count": 3,
   "metadata": {},
   "outputs": [],
   "source": [
    "# cd ~\n",
    "# cd sw/\n",
    "# mkdir opencv\n",
    "# cd opencv\n",
    "# wget -O opencv.zip https://github.com/opencv/opencv/archive/4.2.0.zip\n",
    "# unzip opencv.zip"
   ]
  },
  {
   "cell_type": "code",
   "execution_count": 4,
   "metadata": {},
   "outputs": [],
   "source": [
    "# wget -O opencv_contrib.zip https://github.com/opencv/opencv_contrib/archive/4.2.0.zip\n",
    "# unzip opencv_contrib.zip"
   ]
  },
  {
   "cell_type": "code",
   "execution_count": 5,
   "metadata": {},
   "outputs": [],
   "source": [
    "# cd opencv-4.2.0/\n",
    "# mkdir build\n",
    "# cd build"
   ]
  },
  {
   "cell_type": "code",
   "execution_count": 6,
   "metadata": {},
   "outputs": [],
   "source": [
    "# 아나콘다 환경 설정 잠시 정지시킴\n",
    "# sudo apt-get install python2.7-dev python3-dev python-numpy python3-numpy"
   ]
  },
  {
   "cell_type": "code",
   "execution_count": 7,
   "metadata": {},
   "outputs": [],
   "source": [
    "# /home/bitai/anaconda3/bin/python"
   ]
  },
  {
   "cell_type": "code",
   "execution_count": 8,
   "metadata": {},
   "outputs": [],
   "source": [
    "# 아나콘다 경로를 잘 파악하고 있다면 문제 없음\n",
    "# cmake -D CMAKE_BUILD_TYPE=RELEASE -D CMAKE_INSTALL_PREFIX=/usr/local -D WITH_TBB=OFF -D WITH_IPP=OFF -D WITH_1394=OFF -D BUILD_WITH_DEBUG_INFO=OFF -D BUILD_DOCS=OFF -D INSTALL_C_EXAMPLES=ON -D INSTALL_PYTHON_EXAMPLES=ON -D BUILD_EXAMPLES=OFF -D BUILD_TESTS=OFF -D BUILD_PERF_TESTS=OFF -D WITH_QT=OFF -D WITH_GTK=ON -D WITH_OPENGL=ON -D OPENCV_EXTRA_MODULES_PATH=../../opencv_contrib-4.2.0/modules -D WITH_V4L=ON -D WITH_FFMPEG=ON -D WITH_XINE=ON -D BUILD_NEW_PYTHON_SUPPORT=ON -D OPENCV_GENERATE_PKGCONFIG=ON ../"
   ]
  },
  {
   "cell_type": "code",
   "execution_count": 9,
   "metadata": {},
   "outputs": [],
   "source": [
    "# 아나콘다상의 파이썬 경로를 파악하지 못한다면 아래 방식으로\n",
    "# cmake -D CMAKE_BUILD_TYPE=RELEASE -D CMAKE_INSTALL_PREFIX=/usr/local -D WITH_TBB=OFF -D WITH_IPP=OFF -D WITH_1394=OFF -D BUILD_WITH_DEBUG_INFO=OFF -D BUILD_DOCS=OFF -D INSTALL_C_EXAMPLES=ON -D INSTALL_PYTHON_EXAMPLES=ON -D BUILD_EXAMPLES=OFF -D BUILD_TESTS=OFF -D BUILD_PERF_TESTS=OFF -D WITH_QT=OFF -D WITH_GTK=ON -D WITH_OPENGL=ON -D OPENCV_EXTRA_MODULES_PATH=../../opencv_contrib-4.2.0/modules -D WITH_V4L=ON -D WITH_FFMPEG=ON -D WITH_XINE=ON -D BUILD_NEW_PYTHON_SUPPORT=ON -D OPENCV_GENERATE_PKGCONFIG=ON -D PYTHON3_INCLUDE_DIR=/home/bitai/anaconda3/include/python3.7m/ -D PYTHON3_NUMPY_INCLUDE_DIRS=/home/bitai/anaconda3/lib/python3.7/site-packages/numpy/core/include/ -D PYTHON3_PACKAGES_PATH=/home/bitai/anaconda3/lib/python3.7/site-packages -D PYTHON3_LIBRARY=/home/bitai/anaconda3/lib/libpython3.7m.so ../"
   ]
  },
  {
   "cell_type": "code",
   "execution_count": 10,
   "metadata": {},
   "outputs": [],
   "source": [
    "# cat /proc/cpuinfo | grep processor | wc -l\n",
    "# time make -j12"
   ]
  },
  {
   "cell_type": "code",
   "execution_count": 11,
   "metadata": {},
   "outputs": [],
   "source": [
    "# sudo make install"
   ]
  },
  {
   "cell_type": "code",
   "execution_count": 12,
   "metadata": {},
   "outputs": [],
   "source": [
    "# cat /etc/ld.so.conf.d/*\n",
    "# sudo ldconfig"
   ]
  },
  {
   "cell_type": "code",
   "execution_count": 13,
   "metadata": {},
   "outputs": [],
   "source": [
    "# cd ~/proj/\n",
    "# mkdir test\n",
    "# cd test\n",
    "# g++ -o facedetect /usr/local/share/opencv4/samples/cpp/facedetect.cpp $(pkg-config opencv4 --libs --cflags)\n",
    "# ./facedetect --cascade=\"/usr/local/share/opencv4/haarcascades/haarcascade_frontalface_alt.xml\" --nested-cascade=\"/usr/local/share/opencv4/haarcascades/haarcascade_eye_tree_eyeglasses.xml\" --scale=1.3"
   ]
  },
  {
   "cell_type": "code",
   "execution_count": 14,
   "metadata": {},
   "outputs": [],
   "source": [
    "# 아나콘다 설정 다시 활성화"
   ]
  },
  {
   "cell_type": "code",
   "execution_count": 15,
   "metadata": {},
   "outputs": [
    {
     "name": "stdout",
     "output_type": "stream",
     "text": [
      "Requirement already satisfied: opencv-python in /home/bitai/anaconda3/lib/python3.7/site-packages (4.3.0.36)\r\n",
      "Requirement already satisfied: numpy>=1.14.5 in /home/bitai/anaconda3/lib/python3.7/site-packages (from opencv-python) (1.18.1)\r\n"
     ]
    }
   ],
   "source": [
    "!pip install opencv-python"
   ]
  },
  {
   "cell_type": "code",
   "execution_count": 16,
   "metadata": {},
   "outputs": [],
   "source": [
    "import cv2"
   ]
  },
  {
   "cell_type": "code",
   "execution_count": 17,
   "metadata": {},
   "outputs": [
    {
     "name": "stdout",
     "output_type": "stream",
     "text": [
      "4.3.0\n"
     ]
    }
   ],
   "source": [
    "print(cv2.__version__)"
   ]
  },
  {
   "cell_type": "code",
   "execution_count": 18,
   "metadata": {},
   "outputs": [],
   "source": [
    "import numpy as np"
   ]
  },
  {
   "cell_type": "code",
   "execution_count": 19,
   "metadata": {},
   "outputs": [
    {
     "name": "stdout",
     "output_type": "stream",
     "text": [
      "[[1 0 8 1 2 8 3]\n",
      " [7 5 9 4 6 5 5]\n",
      " [0 6 4 6 0 9 1]\n",
      " [5 8 2 6 2 0 0]\n",
      " [0 4 7 3 7 7 3]\n",
      " [1 4 4 0 5 9 2]\n",
      " [7 7 4 1 9 9 7]]\n"
     ]
    }
   ],
   "source": [
    "img = np.random.randint(0, 10, (7, 7))\n",
    "\n",
    "print(img)"
   ]
  },
  {
   "cell_type": "code",
   "execution_count": 20,
   "metadata": {},
   "outputs": [
    {
     "name": "stdout",
     "output_type": "stream",
     "text": [
      "[[1. 1. 1. 1. 1. 1. 1.]\n",
      " [1. 1. 1. 1. 1. 1. 1.]\n",
      " [1. 1. 1. 1. 1. 1. 1.]\n",
      " [1. 1. 1. 1. 1. 1. 1.]\n",
      " [1. 1. 1. 1. 1. 1. 1.]\n",
      " [1. 1. 1. 1. 1. 1. 1.]\n",
      " [1. 1. 1. 1. 1. 1. 1.]]\n"
     ]
    }
   ],
   "source": [
    "img_np = np.ones([7, 7])\n",
    "\n",
    "print(img_np)"
   ]
  },
  {
   "cell_type": "code",
   "execution_count": 21,
   "metadata": {},
   "outputs": [
    {
     "name": "stdout",
     "output_type": "stream",
     "text": [
      "[-1  0  1]\n"
     ]
    }
   ],
   "source": [
    "kernel = np.array([-1, 0, 1])\n",
    "\n",
    "print(kernel)"
   ]
  },
  {
   "cell_type": "code",
   "execution_count": 22,
   "metadata": {},
   "outputs": [
    {
     "name": "stdout",
     "output_type": "stream",
     "text": [
      "<class 'numpy.ndarray'>\n",
      "<class 'numpy.ndarray'>\n"
     ]
    }
   ],
   "source": [
    "print(type(kernel))\n",
    "print(type(img_np))"
   ]
  },
  {
   "cell_type": "code",
   "execution_count": 23,
   "metadata": {},
   "outputs": [
    {
     "name": "stdout",
     "output_type": "stream",
     "text": [
      "[[1. 1. 1. 1. 1. 1. 1.]\n",
      " [1. 1. 1. 1. 1. 1. 1.]\n",
      " [1. 1. 1. 1. 1. 1. 1.]\n",
      " [1. 1. 1. 1. 1. 1. 1.]\n",
      " [1. 1. 1. 1. 1. 1. 1.]\n",
      " [1. 1. 1. 1. 1. 1. 1.]\n",
      " [1. 1. 1. 1. 1. 1. 1.]]\n"
     ]
    }
   ],
   "source": [
    "img_cv = cv2.resize(img_np, (7, 7))\n",
    "\n",
    "print(img_cv)"
   ]
  },
  {
   "cell_type": "code",
   "execution_count": 24,
   "metadata": {},
   "outputs": [
    {
     "name": "stdout",
     "output_type": "stream",
     "text": [
      "[[-1]\n",
      " [ 0]\n",
      " [ 1]]\n"
     ]
    }
   ],
   "source": [
    "kernel = cv2.resize(kernel, (1, 3))\n",
    "\n",
    "print(kernel)"
   ]
  },
  {
   "cell_type": "code",
   "execution_count": 25,
   "metadata": {},
   "outputs": [
    {
     "name": "stdout",
     "output_type": "stream",
     "text": [
      "<class 'numpy.ndarray'>\n",
      "<class 'numpy.ndarray'>\n"
     ]
    }
   ],
   "source": [
    "print(type(img_cv))\n",
    "print(type(kernel))"
   ]
  },
  {
   "cell_type": "code",
   "execution_count": 26,
   "metadata": {},
   "outputs": [
    {
     "name": "stdout",
     "output_type": "stream",
     "text": [
      "[[0. 0. 0. 0. 0. 0. 0.]\n",
      " [0. 0. 0. 0. 0. 0. 0.]\n",
      " [0. 0. 0. 0. 0. 0. 0.]\n",
      " [0. 0. 0. 0. 0. 0. 0.]\n",
      " [0. 0. 0. 0. 0. 0. 0.]\n",
      " [0. 0. 0. 0. 0. 0. 0.]\n",
      " [0. 0. 0. 0. 0. 0. 0.]]\n"
     ]
    }
   ],
   "source": [
    "conv_test = cv2.filter2D(img_cv, -1, kernel)\n",
    "\n",
    "print(conv_test)"
   ]
  },
  {
   "cell_type": "code",
   "execution_count": 27,
   "metadata": {},
   "outputs": [
    {
     "name": "stdout",
     "output_type": "stream",
     "text": [
      "[[-1]\n",
      " [ 0]\n",
      " [ 1]]\n"
     ]
    }
   ],
   "source": [
    "print(kernel)"
   ]
  },
  {
   "cell_type": "code",
   "execution_count": 28,
   "metadata": {},
   "outputs": [
    {
     "name": "stdout",
     "output_type": "stream",
     "text": [
      "[[1. 1. 1. 1. 1. 1. 1.]\n",
      " [1. 1. 1. 1. 1. 1. 1.]\n",
      " [1. 1. 1. 1. 1. 1. 1.]\n",
      " [1. 1. 1. 1. 1. 1. 1.]\n",
      " [1. 1. 1. 1. 1. 1. 1.]\n",
      " [1. 1. 1. 1. 1. 1. 1.]\n",
      " [1. 1. 1. 1. 1. 1. 1.]]\n"
     ]
    }
   ],
   "source": [
    "print(img_cv)"
   ]
  },
  {
   "cell_type": "code",
   "execution_count": 29,
   "metadata": {},
   "outputs": [
    {
     "name": "stdout",
     "output_type": "stream",
     "text": [
      "[[ 0.  0.  0.  0.  0.  0.  0.]\n",
      " [ 1.  0.  0.  0.  0.  0.  0.]\n",
      " [ 0.  0.  0.  1.  0.  0.  0.]\n",
      " [ 0.  0.  0.  0.  0.  0.  0.]\n",
      " [ 0.  0.  0. -1.  0.  0.  0.]\n",
      " [ 0.  0.  0.  0.  0.  0.  2.]\n",
      " [ 0.  0.  0.  0.  0.  0.  0.]]\n"
     ]
    }
   ],
   "source": [
    "img_cv[0][0] = 0\n",
    "img_cv[3][3] = 2\n",
    "img_cv[6][6] = 3\n",
    "\n",
    "# filter2D - Convolution이\n",
    "# 결국 라플라스 변환과 푸리에 변환에 관계를 가지고 있기 때문\n",
    "conv_test = cv2.filter2D(img_cv, -1, kernel)\n",
    "\n",
    "print(conv_test)"
   ]
  },
  {
   "cell_type": "code",
   "execution_count": 30,
   "metadata": {},
   "outputs": [],
   "source": [
    "# sudo apt-get install ctags cscope"
   ]
  },
  {
   "cell_type": "code",
   "execution_count": 79,
   "metadata": {},
   "outputs": [],
   "source": [
    "from keras.models import Sequential\n",
    "from keras.layers import Conv2D, MaxPool2D, Flatten, Dense"
   ]
  },
  {
   "cell_type": "code",
   "execution_count": 80,
   "metadata": {},
   "outputs": [],
   "source": [
    "classifier = Sequential()\n",
    "classifier.add(\n",
    "    Conv2D(\n",
    "        32, (3, 3), \n",
    "        input_shape = (64, 64, 3), \n",
    "        activation = 'relu'\n",
    "    )\n",
    ")\n",
    "classifier.add(MaxPool2D(pool_size = (2, 2)))\n",
    "classifier.add(Flatten())"
   ]
  },
  {
   "cell_type": "code",
   "execution_count": 81,
   "metadata": {},
   "outputs": [
    {
     "name": "stdout",
     "output_type": "stream",
     "text": [
      "Model: \"sequential_3\"\n",
      "_________________________________________________________________\n",
      "Layer (type)                 Output Shape              Param #   \n",
      "=================================================================\n",
      "conv2d_6 (Conv2D)            (None, 62, 62, 32)        896       \n",
      "_________________________________________________________________\n",
      "max_pooling2d_4 (MaxPooling2 (None, 31, 31, 32)        0         \n",
      "_________________________________________________________________\n",
      "flatten_3 (Flatten)          (None, 30752)             0         \n",
      "=================================================================\n",
      "Total params: 896\n",
      "Trainable params: 896\n",
      "Non-trainable params: 0\n",
      "_________________________________________________________________\n"
     ]
    }
   ],
   "source": [
    "classifier.summary()"
   ]
  },
  {
   "cell_type": "code",
   "execution_count": 82,
   "metadata": {},
   "outputs": [],
   "source": [
    "classifier.add(\n",
    "    Dense(128, activation = 'relu')\n",
    ")\n",
    "classifier.add(\n",
    "    Dense(128, activation = 'relu')\n",
    ")\n",
    "classifier.add(\n",
    "    Dense(128, activation = 'relu')\n",
    ")\n",
    "classifier.add(\n",
    "    Dense(128, activation = 'relu')\n",
    ")\n",
    "classifier.add(\n",
    "    Dense(64, activation = 'relu')\n",
    ")\n",
    "classifier.add(\n",
    "    Dense(32, activation = 'relu')\n",
    ")\n",
    "classifier.add(\n",
    "    Dense(16, activation = 'relu')\n",
    ")\n",
    "classifier.add(\n",
    "    Dense(1, activation = 'sigmoid')\n",
    ")\n",
    "\n",
    "classifier.compile(\n",
    "    optimizer = 'adam',\n",
    "    loss = 'binary_crossentropy',\n",
    "    metrics = ['accuracy']\n",
    ")"
   ]
  },
  {
   "cell_type": "code",
   "execution_count": 83,
   "metadata": {},
   "outputs": [],
   "source": [
    "from keras.preprocessing.image import ImageDataGenerator\n",
    "\n",
    "train_gen = ImageDataGenerator(\n",
    "    rescale = 1. / 255,\n",
    "    shear_range = 0.2,\n",
    "    zoom_range = 0.2,\n",
    "    horizontal_flip = True\n",
    ")\n",
    "\n",
    "test_gen = ImageDataGenerator(rescale = 1.0 / 255)"
   ]
  },
  {
   "cell_type": "code",
   "execution_count": 84,
   "metadata": {},
   "outputs": [
    {
     "name": "stdout",
     "output_type": "stream",
     "text": [
      "Lesson01  Lesson03  Lesson05  Lesson07\tLesson09  README.md\r\n",
      "Lesson02  Lesson04  Lesson06  Lesson08\tLICENSE\r\n"
     ]
    }
   ],
   "source": [
    "!ls Applied-Deep-Learning-with-Keras"
   ]
  },
  {
   "cell_type": "code",
   "execution_count": 85,
   "metadata": {},
   "outputs": [
    {
     "name": "stdout",
     "output_type": "stream",
     "text": [
      "Activity13.ipynb  Datasets\t    Exercise20.ipynb  Exercise22.ipynb\r\n",
      "Activity14.ipynb  Exercise19.ipynb  Exercise21.ipynb\r\n"
     ]
    }
   ],
   "source": [
    "!ls Applied-Deep-Learning-with-Keras/Lesson07"
   ]
  },
  {
   "cell_type": "code",
   "execution_count": 86,
   "metadata": {},
   "outputs": [
    {
     "name": "stdout",
     "output_type": "stream",
     "text": [
      " dataset  'test images'\r\n"
     ]
    }
   ],
   "source": [
    "!ls Applied-Deep-Learning-with-Keras/Lesson07/Datasets"
   ]
  },
  {
   "cell_type": "code",
   "execution_count": 87,
   "metadata": {},
   "outputs": [
    {
     "name": "stdout",
     "output_type": "stream",
     "text": [
      "test_set  training_set\r\n"
     ]
    }
   ],
   "source": [
    "!ls Applied-Deep-Learning-with-Keras/Lesson07/Datasets/dataset"
   ]
  },
  {
   "cell_type": "code",
   "execution_count": 88,
   "metadata": {},
   "outputs": [
    {
     "name": "stdout",
     "output_type": "stream",
     "text": [
      "cats  dogs\r\n"
     ]
    }
   ],
   "source": [
    "!ls Applied-Deep-Learning-with-Keras/Lesson07/Datasets/dataset/test_set"
   ]
  },
  {
   "cell_type": "code",
   "execution_count": 89,
   "metadata": {},
   "outputs": [
    {
     "name": "stdout",
     "output_type": "stream",
     "text": [
      "cats  dogs\r\n"
     ]
    }
   ],
   "source": [
    "!ls Applied-Deep-Learning-with-Keras/Lesson07/Datasets/dataset/training_set"
   ]
  },
  {
   "cell_type": "code",
   "execution_count": 90,
   "metadata": {},
   "outputs": [
    {
     "name": "stdout",
     "output_type": "stream",
     "text": [
      "Found 20000 images belonging to 2 classes.\n",
      "Found 5000 images belonging to 2 classes.\n"
     ]
    }
   ],
   "source": [
    "trainSet = train_gen.flow_from_directory(\n",
    "    'Applied-Deep-Learning-with-Keras/Lesson07/' +\n",
    "    'Datasets/dataset/training_set',\n",
    "    target_size = (64, 64),\n",
    "    batch_size = 32,\n",
    "    class_mode = 'binary'\n",
    ")\n",
    "testSet = test_gen.flow_from_directory(\n",
    "    'Applied-Deep-Learning-with-Keras/Lesson07/' +\n",
    "    'Datasets/dataset/test_set',\n",
    "    target_size = (64, 64),\n",
    "    batch_size = 32,\n",
    "    class_mode = 'binary'\n",
    ")"
   ]
  },
  {
   "cell_type": "code",
   "execution_count": 99,
   "metadata": {},
   "outputs": [
    {
     "name": "stdout",
     "output_type": "stream",
     "text": [
      "Epoch 1/100\n",
      "100/100 [==============================] - 10s 102ms/step - loss: 0.5462 - accuracy: 0.7209 - val_loss: 0.5500 - val_accuracy: 0.7337\n",
      "Epoch 2/100\n",
      "100/100 [==============================] - 10s 102ms/step - loss: 0.5334 - accuracy: 0.7331 - val_loss: 0.5281 - val_accuracy: 0.7400\n",
      "Epoch 3/100\n",
      "100/100 [==============================] - 10s 101ms/step - loss: 0.5440 - accuracy: 0.7328 - val_loss: 0.6137 - val_accuracy: 0.6975\n",
      "Epoch 4/100\n",
      "100/100 [==============================] - 10s 101ms/step - loss: 0.5370 - accuracy: 0.7344 - val_loss: 0.5158 - val_accuracy: 0.7487\n",
      "Epoch 5/100\n",
      "100/100 [==============================] - 10s 101ms/step - loss: 0.5239 - accuracy: 0.7422 - val_loss: 0.5315 - val_accuracy: 0.7400\n",
      "Epoch 6/100\n",
      "100/100 [==============================] - 10s 101ms/step - loss: 0.5255 - accuracy: 0.7369 - val_loss: 0.5244 - val_accuracy: 0.7325\n",
      "Epoch 7/100\n",
      "100/100 [==============================] - 10s 102ms/step - loss: 0.5203 - accuracy: 0.7394 - val_loss: 0.5053 - val_accuracy: 0.7500\n",
      "Epoch 8/100\n",
      "100/100 [==============================] - 10s 102ms/step - loss: 0.5200 - accuracy: 0.7378 - val_loss: 0.5208 - val_accuracy: 0.7362\n",
      "Epoch 9/100\n",
      "100/100 [==============================] - 10s 101ms/step - loss: 0.5044 - accuracy: 0.7447 - val_loss: 0.5202 - val_accuracy: 0.7312\n",
      "Epoch 10/100\n",
      "100/100 [==============================] - 10s 102ms/step - loss: 0.5134 - accuracy: 0.7469 - val_loss: 0.6258 - val_accuracy: 0.7075\n",
      "Epoch 11/100\n",
      "100/100 [==============================] - 10s 102ms/step - loss: 0.5165 - accuracy: 0.7391 - val_loss: 0.4905 - val_accuracy: 0.7487\n",
      "Epoch 12/100\n",
      "100/100 [==============================] - 10s 102ms/step - loss: 0.5029 - accuracy: 0.7509 - val_loss: 0.5193 - val_accuracy: 0.7412\n",
      "Epoch 13/100\n",
      "100/100 [==============================] - 10s 103ms/step - loss: 0.4938 - accuracy: 0.7547 - val_loss: 0.5474 - val_accuracy: 0.7450\n",
      "Epoch 14/100\n",
      "100/100 [==============================] - 10s 102ms/step - loss: 0.5082 - accuracy: 0.7519 - val_loss: 0.4971 - val_accuracy: 0.7638\n",
      "Epoch 15/100\n",
      "100/100 [==============================] - 10s 102ms/step - loss: 0.4996 - accuracy: 0.7484 - val_loss: 0.5088 - val_accuracy: 0.7513\n",
      "Epoch 16/100\n",
      "100/100 [==============================] - 10s 102ms/step - loss: 0.4881 - accuracy: 0.7622 - val_loss: 0.5273 - val_accuracy: 0.7487\n",
      "Epoch 17/100\n",
      "100/100 [==============================] - 10s 102ms/step - loss: 0.5091 - accuracy: 0.7481 - val_loss: 0.5406 - val_accuracy: 0.7337\n",
      "Epoch 18/100\n",
      "100/100 [==============================] - 10s 102ms/step - loss: 0.4936 - accuracy: 0.7672 - val_loss: 0.4765 - val_accuracy: 0.7675\n",
      "Epoch 19/100\n",
      "100/100 [==============================] - 10s 102ms/step - loss: 0.4900 - accuracy: 0.7575 - val_loss: 0.5780 - val_accuracy: 0.6975\n",
      "Epoch 20/100\n",
      "100/100 [==============================] - 10s 103ms/step - loss: 0.5007 - accuracy: 0.7531 - val_loss: 0.4961 - val_accuracy: 0.7638\n",
      "Epoch 21/100\n",
      "100/100 [==============================] - 10s 102ms/step - loss: 0.4954 - accuracy: 0.7478 - val_loss: 0.5101 - val_accuracy: 0.7563\n",
      "Epoch 22/100\n",
      "100/100 [==============================] - 10s 102ms/step - loss: 0.5133 - accuracy: 0.7397 - val_loss: 0.4805 - val_accuracy: 0.7750\n",
      "Epoch 23/100\n",
      "100/100 [==============================] - 10s 102ms/step - loss: 0.4724 - accuracy: 0.7747 - val_loss: 0.5788 - val_accuracy: 0.7250\n",
      "Epoch 24/100\n",
      "100/100 [==============================] - 10s 101ms/step - loss: 0.4773 - accuracy: 0.7691 - val_loss: 0.5233 - val_accuracy: 0.7400\n",
      "Epoch 25/100\n",
      "100/100 [==============================] - 10s 102ms/step - loss: 0.4605 - accuracy: 0.7709 - val_loss: 0.4759 - val_accuracy: 0.7688\n",
      "Epoch 26/100\n",
      "100/100 [==============================] - 10s 102ms/step - loss: 0.4745 - accuracy: 0.7763 - val_loss: 0.5028 - val_accuracy: 0.7487\n",
      "Epoch 27/100\n",
      "100/100 [==============================] - 10s 104ms/step - loss: 0.4644 - accuracy: 0.7769 - val_loss: 0.5553 - val_accuracy: 0.7362\n",
      "Epoch 28/100\n",
      "100/100 [==============================] - 10s 103ms/step - loss: 0.4738 - accuracy: 0.7663 - val_loss: 0.5001 - val_accuracy: 0.7550\n",
      "Epoch 29/100\n",
      "100/100 [==============================] - 10s 103ms/step - loss: 0.4577 - accuracy: 0.7831 - val_loss: 0.5106 - val_accuracy: 0.7625\n",
      "Epoch 30/100\n",
      "100/100 [==============================] - 10s 103ms/step - loss: 0.4633 - accuracy: 0.7766 - val_loss: 0.4846 - val_accuracy: 0.7638\n",
      "Epoch 31/100\n",
      "100/100 [==============================] - 10s 102ms/step - loss: 0.4576 - accuracy: 0.7772 - val_loss: 0.5220 - val_accuracy: 0.7375\n",
      "Epoch 32/100\n",
      "100/100 [==============================] - 10s 102ms/step - loss: 0.4630 - accuracy: 0.7756 - val_loss: 0.5315 - val_accuracy: 0.7412\n",
      "Epoch 33/100\n",
      "100/100 [==============================] - 10s 101ms/step - loss: 0.4617 - accuracy: 0.7822 - val_loss: 0.5072 - val_accuracy: 0.7688\n",
      "Epoch 34/100\n",
      "100/100 [==============================] - 10s 103ms/step - loss: 0.4484 - accuracy: 0.7837 - val_loss: 0.4848 - val_accuracy: 0.7638\n",
      "Epoch 35/100\n",
      "100/100 [==============================] - 10s 103ms/step - loss: 0.4540 - accuracy: 0.7866 - val_loss: 0.5315 - val_accuracy: 0.7350\n",
      "Epoch 36/100\n",
      "100/100 [==============================] - 10s 102ms/step - loss: 0.4537 - accuracy: 0.7788 - val_loss: 0.5069 - val_accuracy: 0.7763\n",
      "Epoch 37/100\n",
      "100/100 [==============================] - 10s 102ms/step - loss: 0.4485 - accuracy: 0.7966 - val_loss: 0.4871 - val_accuracy: 0.7625\n",
      "Epoch 38/100\n",
      "100/100 [==============================] - 10s 102ms/step - loss: 0.4495 - accuracy: 0.7819 - val_loss: 0.5246 - val_accuracy: 0.7437\n",
      "Epoch 39/100\n",
      "100/100 [==============================] - 10s 102ms/step - loss: 0.4574 - accuracy: 0.7837 - val_loss: 0.5433 - val_accuracy: 0.7538\n",
      "Epoch 40/100\n",
      "100/100 [==============================] - 10s 102ms/step - loss: 0.4190 - accuracy: 0.8112 - val_loss: 0.4718 - val_accuracy: 0.7738\n",
      "Epoch 41/100\n",
      "100/100 [==============================] - 10s 102ms/step - loss: 0.4531 - accuracy: 0.7753 - val_loss: 0.5227 - val_accuracy: 0.7262\n",
      "Epoch 42/100\n",
      "100/100 [==============================] - 10s 103ms/step - loss: 0.4304 - accuracy: 0.7972 - val_loss: 0.5327 - val_accuracy: 0.7538\n",
      "Epoch 43/100\n",
      "100/100 [==============================] - 10s 102ms/step - loss: 0.4244 - accuracy: 0.7975 - val_loss: 0.5507 - val_accuracy: 0.7638\n",
      "Epoch 44/100\n",
      "100/100 [==============================] - 10s 103ms/step - loss: 0.4331 - accuracy: 0.7984 - val_loss: 0.4906 - val_accuracy: 0.7725\n",
      "Epoch 45/100\n",
      "100/100 [==============================] - 10s 102ms/step - loss: 0.4274 - accuracy: 0.8053 - val_loss: 0.5736 - val_accuracy: 0.7250\n",
      "Epoch 46/100\n",
      "100/100 [==============================] - 10s 102ms/step - loss: 0.4410 - accuracy: 0.7950 - val_loss: 0.5496 - val_accuracy: 0.7625\n",
      "Epoch 47/100\n",
      "100/100 [==============================] - 10s 103ms/step - loss: 0.4428 - accuracy: 0.7987 - val_loss: 0.4863 - val_accuracy: 0.7575\n",
      "Epoch 48/100\n",
      "100/100 [==============================] - 10s 103ms/step - loss: 0.4412 - accuracy: 0.7941 - val_loss: 0.4571 - val_accuracy: 0.7763\n",
      "Epoch 49/100\n",
      "100/100 [==============================] - 10s 102ms/step - loss: 0.4394 - accuracy: 0.7947 - val_loss: 0.4978 - val_accuracy: 0.7638\n",
      "Epoch 50/100\n",
      "100/100 [==============================] - 10s 101ms/step - loss: 0.4196 - accuracy: 0.8075 - val_loss: 0.5185 - val_accuracy: 0.7600\n",
      "Epoch 51/100\n",
      "100/100 [==============================] - 10s 101ms/step - loss: 0.4348 - accuracy: 0.7912 - val_loss: 0.5210 - val_accuracy: 0.7437\n",
      "Epoch 52/100\n",
      "100/100 [==============================] - 10s 102ms/step - loss: 0.4211 - accuracy: 0.8078 - val_loss: 0.5396 - val_accuracy: 0.7625\n",
      "Epoch 53/100\n",
      "100/100 [==============================] - 10s 102ms/step - loss: 0.4319 - accuracy: 0.8003 - val_loss: 0.5185 - val_accuracy: 0.7588\n",
      "Epoch 54/100\n",
      "100/100 [==============================] - 10s 102ms/step - loss: 0.4229 - accuracy: 0.8041 - val_loss: 0.5135 - val_accuracy: 0.7725\n",
      "Epoch 55/100\n",
      "100/100 [==============================] - 10s 102ms/step - loss: 0.4000 - accuracy: 0.8163 - val_loss: 0.4855 - val_accuracy: 0.7725\n",
      "Epoch 56/100\n",
      "100/100 [==============================] - 10s 102ms/step - loss: 0.4071 - accuracy: 0.8156 - val_loss: 0.4573 - val_accuracy: 0.8037\n"
     ]
    },
    {
     "name": "stdout",
     "output_type": "stream",
     "text": [
      "Epoch 57/100\n",
      "100/100 [==============================] - 10s 101ms/step - loss: 0.4134 - accuracy: 0.8172 - val_loss: 0.4706 - val_accuracy: 0.7900\n",
      "Epoch 58/100\n",
      "100/100 [==============================] - 10s 102ms/step - loss: 0.4009 - accuracy: 0.8144 - val_loss: 0.6015 - val_accuracy: 0.7600\n",
      "Epoch 59/100\n",
      "100/100 [==============================] - 10s 101ms/step - loss: 0.4041 - accuracy: 0.8153 - val_loss: 0.5076 - val_accuracy: 0.7600\n",
      "Epoch 60/100\n",
      "100/100 [==============================] - 10s 102ms/step - loss: 0.4034 - accuracy: 0.8244 - val_loss: 0.4929 - val_accuracy: 0.7775\n",
      "Epoch 61/100\n",
      "100/100 [==============================] - 10s 101ms/step - loss: 0.4091 - accuracy: 0.8056 - val_loss: 0.4933 - val_accuracy: 0.7513\n",
      "Epoch 62/100\n",
      "100/100 [==============================] - 10s 101ms/step - loss: 0.4024 - accuracy: 0.8184 - val_loss: 0.4864 - val_accuracy: 0.7588\n",
      "Epoch 63/100\n",
      "100/100 [==============================] - 10s 101ms/step - loss: 0.4124 - accuracy: 0.8075 - val_loss: 0.5572 - val_accuracy: 0.7362\n",
      "Epoch 64/100\n",
      "100/100 [==============================] - 10s 102ms/step - loss: 0.3900 - accuracy: 0.8281 - val_loss: 0.4879 - val_accuracy: 0.7663\n",
      "Epoch 65/100\n",
      "100/100 [==============================] - 10s 101ms/step - loss: 0.4088 - accuracy: 0.8131 - val_loss: 0.5145 - val_accuracy: 0.7625\n",
      "Epoch 66/100\n",
      "100/100 [==============================] - 10s 101ms/step - loss: 0.3930 - accuracy: 0.8184 - val_loss: 0.5714 - val_accuracy: 0.7412\n",
      "Epoch 67/100\n",
      "100/100 [==============================] - 10s 101ms/step - loss: 0.3804 - accuracy: 0.8197 - val_loss: 0.4601 - val_accuracy: 0.8037\n",
      "Epoch 68/100\n",
      "100/100 [==============================] - 10s 102ms/step - loss: 0.3878 - accuracy: 0.8288 - val_loss: 0.5304 - val_accuracy: 0.7650\n",
      "Epoch 69/100\n",
      "100/100 [==============================] - 10s 101ms/step - loss: 0.4080 - accuracy: 0.8175 - val_loss: 0.5757 - val_accuracy: 0.7225\n",
      "Epoch 70/100\n",
      "100/100 [==============================] - 10s 101ms/step - loss: 0.3819 - accuracy: 0.8253 - val_loss: 0.5288 - val_accuracy: 0.7538\n",
      "Epoch 71/100\n",
      "100/100 [==============================] - 10s 101ms/step - loss: 0.3972 - accuracy: 0.8213 - val_loss: 0.6066 - val_accuracy: 0.7225\n",
      "Epoch 72/100\n",
      "100/100 [==============================] - 10s 101ms/step - loss: 0.4022 - accuracy: 0.8119 - val_loss: 0.4928 - val_accuracy: 0.7875\n",
      "Epoch 73/100\n",
      "100/100 [==============================] - 10s 101ms/step - loss: 0.3977 - accuracy: 0.8203 - val_loss: 0.5562 - val_accuracy: 0.7738\n",
      "Epoch 74/100\n",
      "100/100 [==============================] - 10s 102ms/step - loss: 0.3855 - accuracy: 0.8256 - val_loss: 0.6023 - val_accuracy: 0.7538\n",
      "Epoch 75/100\n",
      "100/100 [==============================] - 10s 101ms/step - loss: 0.3802 - accuracy: 0.8334 - val_loss: 0.6236 - val_accuracy: 0.7538\n",
      "Epoch 76/100\n",
      "100/100 [==============================] - 10s 102ms/step - loss: 0.3842 - accuracy: 0.8256 - val_loss: 0.5126 - val_accuracy: 0.7613\n",
      "Epoch 77/100\n",
      "100/100 [==============================] - 10s 102ms/step - loss: 0.3835 - accuracy: 0.8272 - val_loss: 0.5148 - val_accuracy: 0.7600\n",
      "Epoch 78/100\n",
      "100/100 [==============================] - 10s 102ms/step - loss: 0.3991 - accuracy: 0.8197 - val_loss: 0.5116 - val_accuracy: 0.7525\n",
      "Epoch 79/100\n",
      "100/100 [==============================] - 10s 102ms/step - loss: 0.3890 - accuracy: 0.8228 - val_loss: 0.5064 - val_accuracy: 0.7837\n",
      "Epoch 80/100\n",
      "100/100 [==============================] - 10s 102ms/step - loss: 0.3740 - accuracy: 0.8319 - val_loss: 0.5247 - val_accuracy: 0.7525\n",
      "Epoch 81/100\n",
      "100/100 [==============================] - 10s 102ms/step - loss: 0.3650 - accuracy: 0.8331 - val_loss: 0.5167 - val_accuracy: 0.7663\n",
      "Epoch 82/100\n",
      "100/100 [==============================] - 10s 102ms/step - loss: 0.3639 - accuracy: 0.8331 - val_loss: 0.5052 - val_accuracy: 0.7912\n",
      "Epoch 83/100\n",
      "100/100 [==============================] - 10s 103ms/step - loss: 0.3665 - accuracy: 0.8381 - val_loss: 0.5299 - val_accuracy: 0.7788\n",
      "Epoch 84/100\n",
      "100/100 [==============================] - 10s 102ms/step - loss: 0.3771 - accuracy: 0.8231 - val_loss: 0.5125 - val_accuracy: 0.7812\n",
      "Epoch 85/100\n",
      "100/100 [==============================] - 10s 103ms/step - loss: 0.3723 - accuracy: 0.8363 - val_loss: 0.5171 - val_accuracy: 0.7788\n",
      "Epoch 86/100\n",
      "100/100 [==============================] - 10s 102ms/step - loss: 0.3786 - accuracy: 0.8222 - val_loss: 0.5788 - val_accuracy: 0.7462\n",
      "Epoch 87/100\n",
      "100/100 [==============================] - 10s 102ms/step - loss: 0.3565 - accuracy: 0.8378 - val_loss: 0.5268 - val_accuracy: 0.7775\n",
      "Epoch 88/100\n",
      "100/100 [==============================] - 10s 101ms/step - loss: 0.3697 - accuracy: 0.8344 - val_loss: 0.4788 - val_accuracy: 0.8012\n",
      "Epoch 89/100\n",
      "100/100 [==============================] - 10s 102ms/step - loss: 0.3662 - accuracy: 0.8378 - val_loss: 0.5168 - val_accuracy: 0.7638\n",
      "Epoch 90/100\n",
      "100/100 [==============================] - 10s 102ms/step - loss: 0.3685 - accuracy: 0.8381 - val_loss: 0.4715 - val_accuracy: 0.7588\n",
      "Epoch 91/100\n",
      "100/100 [==============================] - 10s 102ms/step - loss: 0.3515 - accuracy: 0.8469 - val_loss: 0.5795 - val_accuracy: 0.7613\n",
      "Epoch 92/100\n",
      "100/100 [==============================] - 10s 102ms/step - loss: 0.3532 - accuracy: 0.8506 - val_loss: 0.6438 - val_accuracy: 0.7337\n",
      "Epoch 93/100\n",
      "100/100 [==============================] - 10s 101ms/step - loss: 0.3597 - accuracy: 0.8481 - val_loss: 0.6311 - val_accuracy: 0.7375\n",
      "Epoch 94/100\n",
      "100/100 [==============================] - 10s 101ms/step - loss: 0.3631 - accuracy: 0.8381 - val_loss: 0.5553 - val_accuracy: 0.7613\n",
      "Epoch 95/100\n",
      "100/100 [==============================] - 10s 101ms/step - loss: 0.3346 - accuracy: 0.8537 - val_loss: 0.5908 - val_accuracy: 0.7725\n",
      "Epoch 96/100\n",
      "100/100 [==============================] - 10s 101ms/step - loss: 0.3592 - accuracy: 0.8453 - val_loss: 0.5388 - val_accuracy: 0.7625\n",
      "Epoch 97/100\n",
      "100/100 [==============================] - 10s 102ms/step - loss: 0.3440 - accuracy: 0.8512 - val_loss: 0.5058 - val_accuracy: 0.7738\n",
      "Epoch 98/100\n",
      "100/100 [==============================] - 10s 102ms/step - loss: 0.3566 - accuracy: 0.8459 - val_loss: 0.5642 - val_accuracy: 0.7588\n",
      "Epoch 99/100\n",
      "100/100 [==============================] - 10s 102ms/step - loss: 0.3550 - accuracy: 0.8416 - val_loss: 0.5438 - val_accuracy: 0.7600\n",
      "Epoch 100/100\n",
      "100/100 [==============================] - 10s 101ms/step - loss: 0.3571 - accuracy: 0.8419 - val_loss: 0.4866 - val_accuracy: 0.7925\n"
     ]
    },
    {
     "data": {
      "text/plain": [
       "<tensorflow.python.keras.callbacks.History at 0x7f76c5f0b690>"
      ]
     },
     "execution_count": 99,
     "metadata": {},
     "output_type": "execute_result"
    }
   ],
   "source": [
    "batch_size = 100\n",
    "\n",
    "classifier.fit_generator(\n",
    "    trainSet,\n",
    "    steps_per_epoch = int(10000/batch_size),\n",
    "    epochs = 100,\n",
    "    validation_data = testSet,\n",
    "    validation_steps = int(2500/batch_size)\n",
    ")"
   ]
  },
  {
   "cell_type": "code",
   "execution_count": 100,
   "metadata": {},
   "outputs": [],
   "source": [
    "import numpy as np\n",
    "\n",
    "from keras.preprocessing import image"
   ]
  },
  {
   "cell_type": "code",
   "execution_count": 101,
   "metadata": {},
   "outputs": [],
   "source": [
    "new_image = image.load_img(\n",
    "    'test_image_2.jpg',\n",
    "    target_size = (64, 64)\n",
    ")"
   ]
  },
  {
   "cell_type": "code",
   "execution_count": 102,
   "metadata": {},
   "outputs": [
    {
     "name": "stdout",
     "output_type": "stream",
     "text": [
      "Cat\n"
     ]
    }
   ],
   "source": [
    "new_image = image.img_to_array(new_image)\n",
    "new_image = np.expand_dims(new_image, axis = 0)\n",
    "\n",
    "result = classifier.predict(new_image)\n",
    "#trainSet.class_indices\n",
    "\n",
    "if result[0][0] == 1:\n",
    "    prediction = 'Dog'\n",
    "else:\n",
    "    prediction = 'Cat'\n",
    "    \n",
    "print(prediction)"
   ]
  },
  {
   "cell_type": "code",
   "execution_count": null,
   "metadata": {},
   "outputs": [],
   "source": []
  },
  {
   "cell_type": "code",
   "execution_count": null,
   "metadata": {},
   "outputs": [],
   "source": []
  },
  {
   "cell_type": "code",
   "execution_count": null,
   "metadata": {},
   "outputs": [],
   "source": []
  },
  {
   "cell_type": "code",
   "execution_count": null,
   "metadata": {},
   "outputs": [],
   "source": []
  },
  {
   "cell_type": "code",
   "execution_count": null,
   "metadata": {},
   "outputs": [],
   "source": [
    "# 라플라스 변환 => 전달 함수를 얻기 위해 계산함\n",
    "# 입력 대 출력비를 구하겠다.\n",
    "# 입력이 10, 출력이 7, 입출력비: 7/10\n",
    "# 입력이 y'' = y' + 3y + 2\n",
    "# 출력이 y' = 3e^3x => y = e^3x\n",
    "# 라플라스 변환 통해 입출력비를 계산할 수 있게 된다.\n",
    "# integral 0 ~ inf f(t)e^-st dt\n",
    "\n",
    "# 1계 미분 방정식(RC 회로)\n",
    "# 라플라스 변환, 푸리에 변환 약식\n",
    "# Low Pass Filter(LPF 설계법) - 1D Convolution\n",
    "# 전달함수 -> 실제 값을 필터링 하는 방법"
   ]
  }
 ],
 "metadata": {
  "kernelspec": {
   "display_name": "Python 3",
   "language": "python",
   "name": "python3"
  },
  "language_info": {
   "codemirror_mode": {
    "name": "ipython",
    "version": 3
   },
   "file_extension": ".py",
   "mimetype": "text/x-python",
   "name": "python",
   "nbconvert_exporter": "python",
   "pygments_lexer": "ipython3",
   "version": "3.7.6"
  }
 },
 "nbformat": 4,
 "nbformat_minor": 4
}
