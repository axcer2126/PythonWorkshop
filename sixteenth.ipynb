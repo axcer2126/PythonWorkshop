{
 "cells": [
  {
   "cell_type": "code",
   "execution_count": 1,
   "metadata": {},
   "outputs": [],
   "source": [
    "import cv2\n",
    "import numpy as np"
   ]
  },
  {
   "cell_type": "code",
   "execution_count": 49,
   "metadata": {},
   "outputs": [
    {
     "name": "stdout",
     "output_type": "stream",
     "text": [
      "[[1. 1. 1. 1. 1.]\n",
      " [1. 1. 1. 1. 1.]\n",
      " [1. 1. 1. 1. 1.]\n",
      " [1. 1. 1. 1. 1.]\n",
      " [1. 1. 1. 1. 1.]]\n"
     ]
    }
   ],
   "source": [
    "img_np = np.ones([5, 5])\n",
    "\n",
    "print(img_np)"
   ]
  },
  {
   "cell_type": "code",
   "execution_count": 41,
   "metadata": {},
   "outputs": [
    {
     "name": "stdout",
     "output_type": "stream",
     "text": [
      "[-1  0  1]\n"
     ]
    }
   ],
   "source": [
    "kernel = np.array([-1, 0, 1])\n",
    "\n",
    "print(kernel)"
   ]
  },
  {
   "cell_type": "code",
   "execution_count": 50,
   "metadata": {},
   "outputs": [
    {
     "name": "stdout",
     "output_type": "stream",
     "text": [
      "[[1. 1. 1. 1. 1.]\n",
      " [1. 1. 1. 1. 1.]\n",
      " [1. 1. 1. 1. 1.]\n",
      " [1. 1. 1. 1. 1.]\n",
      " [1. 1. 1. 1. 1.]]\n"
     ]
    }
   ],
   "source": [
    "# 디지털 신호처리의 FIR 필터 한 번 살펴보면 좋음\n",
    "# cv2는 OpenCV라는 C++로 작성된 라이브러리를 python 가져다 사용\n",
    "# 그러므로 python의 행렬 정보를 OpenCV용으로 변환할 필요가 있음\n",
    "# 목적: 타입 컨버팅\n",
    "img_cv = cv2.resize(img_np, (5, 5))\n",
    "\n",
    "print(img_cv)"
   ]
  },
  {
   "cell_type": "code",
   "execution_count": 43,
   "metadata": {},
   "outputs": [
    {
     "name": "stdout",
     "output_type": "stream",
     "text": [
      "[[-1]\n",
      " [ 0]\n",
      " [ 1]]\n"
     ]
    }
   ],
   "source": [
    "kernel = cv2.resize(kernel, (1, 3))\n",
    "\n",
    "print(kernel)"
   ]
  },
  {
   "cell_type": "code",
   "execution_count": 51,
   "metadata": {},
   "outputs": [
    {
     "name": "stdout",
     "output_type": "stream",
     "text": [
      "[[0. 1. 1. 1. 1.]\n",
      " [1. 1. 1. 1. 1.]\n",
      " [1. 1. 2. 1. 1.]\n",
      " [1. 1. 1. 1. 1.]\n",
      " [1. 1. 1. 1. 3.]]\n"
     ]
    }
   ],
   "source": [
    "img_cv[0][0] = 0\n",
    "img_cv[2][2] = 2\n",
    "img_cv[4][4] = 3\n",
    "\n",
    "print(img_cv)"
   ]
  },
  {
   "cell_type": "code",
   "execution_count": 19,
   "metadata": {},
   "outputs": [
    {
     "name": "stdout",
     "output_type": "stream",
     "text": [
      "[[ 0.  0.  0.  0.  0.]\n",
      " [ 1.  0.  1.  0.  0.]\n",
      " [ 0.  0.  0.  0.  0.]\n",
      " [ 0.  0. -1.  0.  2.]\n",
      " [ 0.  0.  0.  0.  0.]]\n"
     ]
    }
   ],
   "source": [
    "# filter2D - Convolution이\n",
    "# 결국 라플라스 변환과 푸리에 변환에 관계를 가지고 있기 때문\n",
    "# 푸리에 변환이 완료된 두 함수의 곱은 시간 영역에서 컨벌루션과 동일하다.\n",
    "# 주파수 영역으로 변환한 두 함수의 곱이 시간 영역에서 컨벌루션과 동일하다.\n",
    "# (증명: 자코비안 행렬과 라플라스 변환이 필요함)\n",
    "# FIR 필터의 가장 기본 근간\n",
    "conv_test = cv2.filter2D(img_cv, -1, kernel)\n",
    "\n",
    "print(conv_test)"
   ]
  },
  {
   "cell_type": "code",
   "execution_count": 56,
   "metadata": {},
   "outputs": [],
   "source": [
    "import copy\n",
    "\n",
    "# 포인터를 공유 -> malloc을 통해 해결(C, C++ 관점)\n",
    "# 객체를 공유 -> new를 통해 해결(자바 관점)\n",
    "# 파이썬에서 위의 역할을 해주는 것이 copy.deepcopy()\n",
    "def filter_2d(input_img, kernel):\n",
    "    input_img = copy.deepcopy(input_img)\n",
    "    output_img = copy.deepcopy(input_img)\n",
    "    \n",
    "    #print('input_img.shape[0]:', input_img.shape[0])\n",
    "    #print('input_img.shape[1]:', input_img.shape[1])\n",
    "    \n",
    "    #for i in range(input_img.shape[0]):\n",
    "    #    print(input_img[i])\n",
    "        \n",
    "    # 컨벌루션 연산이 적용되는 대상은 무엇인가 ? 답: 이미지\n",
    "    # 이미지 -> (다차원)행렬\n",
    "    for row in range(input_img.shape[0]):\n",
    "        output_img[row][0] = input_img[row][1] * kernel[0] + \\\n",
    "                        input_img[row][0] * kernel[1] + \\\n",
    "                        input_img[row][1] * kernel[2]\n",
    "        \n",
    "        for col in range(1, input_img.shape[1] - 1):\n",
    "            output_img[row][col] = input_img[row][col - 1] * kernel[0] + \\\n",
    "                        input_img[row][col] * kernel[1] + \\\n",
    "                        input_img[row][col + 1] * kernel[2]\n",
    "            \n",
    "        output_img[row][input_img.shape[1] - 1] = \\\n",
    "            input_img[row][input_img.shape[1] - 2] * kernel[0] + \\\n",
    "            input_img[row][input_img.shape[1] - 1] * kernel[1] + \\\n",
    "            input_img[row][input_img.shape[1] - 2] * kernel[2]\n",
    "            \n",
    "    return output_img.T"
   ]
  },
  {
   "cell_type": "code",
   "execution_count": 58,
   "metadata": {},
   "outputs": [
    {
     "name": "stdout",
     "output_type": "stream",
     "text": [
      "[[ 0.  0.  0.  0.  0.]\n",
      " [ 1.  0.  1.  0.  0.]\n",
      " [ 0.  0.  0.  0.  0.]\n",
      " [ 0.  0. -1.  0.  2.]\n",
      " [ 0.  0.  0.  0.  0.]]\n",
      "[[ True  True  True  True  True]\n",
      " [ True  True  True  True  True]\n",
      " [ True  True  True  True  True]\n",
      " [ True  True  True  True  True]\n",
      " [ True  True  True  True  True]]\n"
     ]
    }
   ],
   "source": [
    "conv_img = filter_2d(img_cv, kernel)\n",
    "conv_img2 = cv2.filter2D(img_cv, -1, kernel)\n",
    "\n",
    "print(conv_img)\n",
    "print(conv_img == conv_img2)"
   ]
  },
  {
   "cell_type": "code",
   "execution_count": 59,
   "metadata": {},
   "outputs": [],
   "source": [
    "from keras.applications.vgg16 import VGG16\n",
    "from keras.preprocessing import image\n",
    "from keras.applications.vgg16 import preprocess_input"
   ]
  },
  {
   "cell_type": "code",
   "execution_count": null,
   "metadata": {},
   "outputs": [
    {
     "name": "stdout",
     "output_type": "stream",
     "text": [
      "Downloading data from https://storage.googleapis.com/tensorflow/keras-applications/vgg16/vgg16_weights_tf_dim_ordering_tf_kernels.h5\n",
      "143695872/553467096 [======>.......................] - ETA: 3:03"
     ]
    }
   ],
   "source": [
    "classifier = VGG16()"
   ]
  },
  {
   "cell_type": "code",
   "execution_count": null,
   "metadata": {},
   "outputs": [],
   "source": []
  }
 ],
 "metadata": {
  "kernelspec": {
   "display_name": "Python 3",
   "language": "python",
   "name": "python3"
  },
  "language_info": {
   "codemirror_mode": {
    "name": "ipython",
    "version": 3
   },
   "file_extension": ".py",
   "mimetype": "text/x-python",
   "name": "python",
   "nbconvert_exporter": "python",
   "pygments_lexer": "ipython3",
   "version": "3.7.6"
  }
 },
 "nbformat": 4,
 "nbformat_minor": 4
}
