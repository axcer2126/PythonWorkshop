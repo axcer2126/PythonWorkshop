{
 "cells": [
  {
   "cell_type": "code",
   "execution_count": 1,
   "metadata": {},
   "outputs": [],
   "source": [
    "# CNN - Fir 필터 (음성 분석)\n",
    "# RNN, LTSM - IIR 필터 (음성 분석)\n",
    "# IIR은 피드백을 준다\n",
    "# 피드백을 준다는 개념은 특정값을 찾아 수렴시키는 것이라고 보면 된다 (eg.헬기의 균형을 맞추는것)\n",
    "# 마이크로 펀딩 => FPGA\n",
    "\n",
    "# 주가를 예측할려면 추세의 원인을 파악해야 한다.\n",
    "# 정치, 군사, 회사의 기술력 --> 투자자들의 밀집\n",
    "\n",
    "# 음성 = 자연어\n",
    "# 음성을 convolution으로 특징을 스팩트로그램으로 뽑아낸다.\n",
    "# 스팩트로그램 = 3차원 이미지\n",
    "\n",
    "# 베이스 - 디지털 신호 처리\n",
    "\n",
    "# Recurrent neural network(순환망) - 이전 상태를 기억할수 있는 망\n",
    "\n",
    "# RNN을 쓸때는 Dropout을 보편적으로 사용한다.\n",
    "# Gradient(편도함수) = 특정한 데이터의 관점에서 봤을때의 변화"
   ]
  },
  {
   "cell_type": "code",
   "execution_count": 2,
   "metadata": {},
   "outputs": [],
   "source": [
    "# y(u, x) => ∂y / ∂u 혹은 ∂y / ∂x\n",
    "# y' = ∂y / ∂x * ∂x/ ∂u"
   ]
  },
  {
   "cell_type": "code",
   "execution_count": 3,
   "metadata": {},
   "outputs": [],
   "source": [
    "# 폭발하는 grandient를 해결하는 방법\n",
    "# 1. 정규화(0과 1)\n",
    "#    - 마지막에 *7"
   ]
  },
  {
   "cell_type": "code",
   "execution_count": 4,
   "metadata": {},
   "outputs": [],
   "source": [
    "import numpy as np\n",
    "import matplotlib.pyplot as plt\n",
    "import pandas as pd"
   ]
  },
  {
   "cell_type": "code",
   "execution_count": 5,
   "metadata": {},
   "outputs": [
    {
     "data": {
      "text/html": [
       "<div>\n",
       "<style scoped>\n",
       "    .dataframe tbody tr th:only-of-type {\n",
       "        vertical-align: middle;\n",
       "    }\n",
       "\n",
       "    .dataframe tbody tr th {\n",
       "        vertical-align: top;\n",
       "    }\n",
       "\n",
       "    .dataframe thead th {\n",
       "        text-align: right;\n",
       "    }\n",
       "</style>\n",
       "<table border=\"1\" class=\"dataframe\">\n",
       "  <thead>\n",
       "    <tr style=\"text-align: right;\">\n",
       "      <th></th>\n",
       "      <th>Date</th>\n",
       "      <th>Open</th>\n",
       "      <th>High</th>\n",
       "      <th>Low</th>\n",
       "      <th>Close</th>\n",
       "      <th>Adj Close</th>\n",
       "      <th>Volume</th>\n",
       "    </tr>\n",
       "  </thead>\n",
       "  <tbody>\n",
       "    <tr>\n",
       "      <th>0</th>\n",
       "      <td>02-01-2014</td>\n",
       "      <td>79.382858</td>\n",
       "      <td>79.575714</td>\n",
       "      <td>78.860001</td>\n",
       "      <td>79.018570</td>\n",
       "      <td>66.964325</td>\n",
       "      <td>58671200</td>\n",
       "    </tr>\n",
       "    <tr>\n",
       "      <th>1</th>\n",
       "      <td>03-01-2014</td>\n",
       "      <td>78.980003</td>\n",
       "      <td>79.099998</td>\n",
       "      <td>77.204285</td>\n",
       "      <td>77.282860</td>\n",
       "      <td>65.493416</td>\n",
       "      <td>98116900</td>\n",
       "    </tr>\n",
       "    <tr>\n",
       "      <th>2</th>\n",
       "      <td>06-01-2014</td>\n",
       "      <td>76.778572</td>\n",
       "      <td>78.114288</td>\n",
       "      <td>76.228569</td>\n",
       "      <td>77.704285</td>\n",
       "      <td>65.850533</td>\n",
       "      <td>103152700</td>\n",
       "    </tr>\n",
       "    <tr>\n",
       "      <th>3</th>\n",
       "      <td>07-01-2014</td>\n",
       "      <td>77.760002</td>\n",
       "      <td>77.994286</td>\n",
       "      <td>76.845711</td>\n",
       "      <td>77.148575</td>\n",
       "      <td>65.379593</td>\n",
       "      <td>79302300</td>\n",
       "    </tr>\n",
       "    <tr>\n",
       "      <th>4</th>\n",
       "      <td>08-01-2014</td>\n",
       "      <td>76.972855</td>\n",
       "      <td>77.937141</td>\n",
       "      <td>76.955711</td>\n",
       "      <td>77.637146</td>\n",
       "      <td>65.793633</td>\n",
       "      <td>64632400</td>\n",
       "    </tr>\n",
       "  </tbody>\n",
       "</table>\n",
       "</div>"
      ],
      "text/plain": [
       "         Date       Open       High        Low      Close  Adj Close  \\\n",
       "0  02-01-2014  79.382858  79.575714  78.860001  79.018570  66.964325   \n",
       "1  03-01-2014  78.980003  79.099998  77.204285  77.282860  65.493416   \n",
       "2  06-01-2014  76.778572  78.114288  76.228569  77.704285  65.850533   \n",
       "3  07-01-2014  77.760002  77.994286  76.845711  77.148575  65.379593   \n",
       "4  08-01-2014  76.972855  77.937141  76.955711  77.637146  65.793633   \n",
       "\n",
       "      Volume  \n",
       "0   58671200  \n",
       "1   98116900  \n",
       "2  103152700  \n",
       "3   79302300  \n",
       "4   64632400  "
      ]
     },
     "execution_count": 5,
     "metadata": {},
     "output_type": "execute_result"
    }
   ],
   "source": [
    "trainSet = pd.read_csv(\n",
    "    'Applied-Deep-Learning-with-Keras' +\n",
    "    '/Lesson09/AAPL_train.csv'\n",
    ")\n",
    "trainSet.head()"
   ]
  },
  {
   "cell_type": "code",
   "execution_count": 6,
   "metadata": {},
   "outputs": [
    {
     "data": {
      "text/plain": [
       "array([[ 79.382858],\n",
       "       [ 78.980003],\n",
       "       [ 76.778572],\n",
       "       ...,\n",
       "       [155.839996],\n",
       "       [157.5     ],\n",
       "       [158.529999]])"
      ]
     },
     "execution_count": 6,
     "metadata": {},
     "output_type": "execute_result"
    }
   ],
   "source": [
    "trainSetOpen = trainSet.iloc[:, 1:2].values\n",
    "trainSetOpen"
   ]
  },
  {
   "cell_type": "code",
   "execution_count": 7,
   "metadata": {},
   "outputs": [
    {
     "data": {
      "text/plain": [
       "array([[0.05400437],\n",
       "       [0.05148716],\n",
       "       [0.03773165],\n",
       "       ...,\n",
       "       [0.53174205],\n",
       "       [0.54211448],\n",
       "       [0.54855037]])"
      ]
     },
     "execution_count": 7,
     "metadata": {},
     "output_type": "execute_result"
    }
   ],
   "source": [
    "from sklearn.preprocessing import MinMaxScaler\n",
    "\n",
    "sc = MinMaxScaler(feature_range = (0, 1))\n",
    "trainSetScaled = sc.fit_transform(trainSetOpen)\n",
    "trainSetScaled"
   ]
  },
  {
   "cell_type": "code",
   "execution_count": 8,
   "metadata": {},
   "outputs": [],
   "source": [
    "X_train = []\n",
    "y_train = []\n",
    "\n",
    "for i in range(60, 1258):\n",
    "    X_train.append(trainSetScaled[i - 60:i, 0])\n",
    "    y_train.append(trainSetScaled[i, 0])\n",
    "    \n",
    "X_train, y_train = np.array(X_train), np.array(y_train)"
   ]
  },
  {
   "cell_type": "code",
   "execution_count": 9,
   "metadata": {},
   "outputs": [
    {
     "data": {
      "text/plain": [
       "array([[[0.05400437],\n",
       "        [0.05148716],\n",
       "        [0.03773165],\n",
       "        ...,\n",
       "        [0.04582785],\n",
       "        [0.04002572],\n",
       "        [0.03850823]],\n",
       "\n",
       "       [[0.05148716],\n",
       "        [0.03773165],\n",
       "        [0.04386406],\n",
       "        ...,\n",
       "        [0.04002572],\n",
       "        [0.03850823],\n",
       "        [0.03932056]],\n",
       "\n",
       "       [[0.03773165],\n",
       "        [0.04386406],\n",
       "        [0.03894562],\n",
       "        ...,\n",
       "        [0.03850823],\n",
       "        [0.03932056],\n",
       "        [0.03800839]],\n",
       "\n",
       "       ...,\n",
       "\n",
       "       [[0.98231691],\n",
       "        [0.97794302],\n",
       "        [0.99543867],\n",
       "        ...,\n",
       "        [0.53811549],\n",
       "        [0.48369155],\n",
       "        [0.48462887]],\n",
       "\n",
       "       [[0.97794302],\n",
       "        [0.99543867],\n",
       "        [1.        ],\n",
       "        ...,\n",
       "        [0.48369155],\n",
       "        [0.48462887],\n",
       "        [0.53174205]],\n",
       "\n",
       "       [[0.99543867],\n",
       "        [1.        ],\n",
       "        [0.98237946],\n",
       "        ...,\n",
       "        [0.48462887],\n",
       "        [0.53174205],\n",
       "        [0.54211448]]])"
      ]
     },
     "execution_count": 9,
     "metadata": {},
     "output_type": "execute_result"
    }
   ],
   "source": [
    "X_train = np.reshape(\n",
    "    X_train, \n",
    "    (X_train.shape[0], X_train.shape[1], 1)\n",
    ")\n",
    "X_train"
   ]
  },
  {
   "cell_type": "code",
   "execution_count": 10,
   "metadata": {},
   "outputs": [
    {
     "name": "stderr",
     "output_type": "stream",
     "text": [
      "Using TensorFlow backend.\n",
      "/home/bitai/anaconda3/lib/python3.7/site-packages/tensorflow/python/framework/dtypes.py:516: FutureWarning: Passing (type, 1) or '1type' as a synonym of type is deprecated; in a future version of numpy, it will be understood as (type, (1,)) / '(1,)type'.\n",
      "  _np_qint8 = np.dtype([(\"qint8\", np.int8, 1)])\n",
      "/home/bitai/anaconda3/lib/python3.7/site-packages/tensorflow/python/framework/dtypes.py:517: FutureWarning: Passing (type, 1) or '1type' as a synonym of type is deprecated; in a future version of numpy, it will be understood as (type, (1,)) / '(1,)type'.\n",
      "  _np_quint8 = np.dtype([(\"quint8\", np.uint8, 1)])\n",
      "/home/bitai/anaconda3/lib/python3.7/site-packages/tensorflow/python/framework/dtypes.py:518: FutureWarning: Passing (type, 1) or '1type' as a synonym of type is deprecated; in a future version of numpy, it will be understood as (type, (1,)) / '(1,)type'.\n",
      "  _np_qint16 = np.dtype([(\"qint16\", np.int16, 1)])\n",
      "/home/bitai/anaconda3/lib/python3.7/site-packages/tensorflow/python/framework/dtypes.py:519: FutureWarning: Passing (type, 1) or '1type' as a synonym of type is deprecated; in a future version of numpy, it will be understood as (type, (1,)) / '(1,)type'.\n",
      "  _np_quint16 = np.dtype([(\"quint16\", np.uint16, 1)])\n",
      "/home/bitai/anaconda3/lib/python3.7/site-packages/tensorflow/python/framework/dtypes.py:520: FutureWarning: Passing (type, 1) or '1type' as a synonym of type is deprecated; in a future version of numpy, it will be understood as (type, (1,)) / '(1,)type'.\n",
      "  _np_qint32 = np.dtype([(\"qint32\", np.int32, 1)])\n",
      "/home/bitai/anaconda3/lib/python3.7/site-packages/tensorflow/python/framework/dtypes.py:525: FutureWarning: Passing (type, 1) or '1type' as a synonym of type is deprecated; in a future version of numpy, it will be understood as (type, (1,)) / '(1,)type'.\n",
      "  np_resource = np.dtype([(\"resource\", np.ubyte, 1)])\n",
      "/home/bitai/anaconda3/lib/python3.7/site-packages/tensorboard/compat/tensorflow_stub/dtypes.py:541: FutureWarning: Passing (type, 1) or '1type' as a synonym of type is deprecated; in a future version of numpy, it will be understood as (type, (1,)) / '(1,)type'.\n",
      "  _np_qint8 = np.dtype([(\"qint8\", np.int8, 1)])\n",
      "/home/bitai/anaconda3/lib/python3.7/site-packages/tensorboard/compat/tensorflow_stub/dtypes.py:542: FutureWarning: Passing (type, 1) or '1type' as a synonym of type is deprecated; in a future version of numpy, it will be understood as (type, (1,)) / '(1,)type'.\n",
      "  _np_quint8 = np.dtype([(\"quint8\", np.uint8, 1)])\n",
      "/home/bitai/anaconda3/lib/python3.7/site-packages/tensorboard/compat/tensorflow_stub/dtypes.py:543: FutureWarning: Passing (type, 1) or '1type' as a synonym of type is deprecated; in a future version of numpy, it will be understood as (type, (1,)) / '(1,)type'.\n",
      "  _np_qint16 = np.dtype([(\"qint16\", np.int16, 1)])\n",
      "/home/bitai/anaconda3/lib/python3.7/site-packages/tensorboard/compat/tensorflow_stub/dtypes.py:544: FutureWarning: Passing (type, 1) or '1type' as a synonym of type is deprecated; in a future version of numpy, it will be understood as (type, (1,)) / '(1,)type'.\n",
      "  _np_quint16 = np.dtype([(\"quint16\", np.uint16, 1)])\n",
      "/home/bitai/anaconda3/lib/python3.7/site-packages/tensorboard/compat/tensorflow_stub/dtypes.py:545: FutureWarning: Passing (type, 1) or '1type' as a synonym of type is deprecated; in a future version of numpy, it will be understood as (type, (1,)) / '(1,)type'.\n",
      "  _np_qint32 = np.dtype([(\"qint32\", np.int32, 1)])\n",
      "/home/bitai/anaconda3/lib/python3.7/site-packages/tensorboard/compat/tensorflow_stub/dtypes.py:550: FutureWarning: Passing (type, 1) or '1type' as a synonym of type is deprecated; in a future version of numpy, it will be understood as (type, (1,)) / '(1,)type'.\n",
      "  np_resource = np.dtype([(\"resource\", np.ubyte, 1)])\n"
     ]
    }
   ],
   "source": [
    "from keras.models import Sequential\n",
    "from keras.layers import Dense, LSTM, Dropout"
   ]
  },
  {
   "cell_type": "code",
   "execution_count": 11,
   "metadata": {},
   "outputs": [
    {
     "name": "stdout",
     "output_type": "stream",
     "text": [
      "WARNING:tensorflow:From /home/bitai/anaconda3/lib/python3.7/site-packages/keras/backend/tensorflow_backend.py:66: The name tf.get_default_graph is deprecated. Please use tf.compat.v1.get_default_graph instead.\n",
      "\n",
      "WARNING:tensorflow:From /home/bitai/anaconda3/lib/python3.7/site-packages/keras/backend/tensorflow_backend.py:541: The name tf.placeholder is deprecated. Please use tf.compat.v1.placeholder instead.\n",
      "\n",
      "WARNING:tensorflow:From /home/bitai/anaconda3/lib/python3.7/site-packages/keras/backend/tensorflow_backend.py:4432: The name tf.random_uniform is deprecated. Please use tf.random.uniform instead.\n",
      "\n"
     ]
    }
   ],
   "source": [
    "model = Sequential()\n",
    "\n",
    "model.add(\n",
    "    LSTM(\n",
    "        50, return_sequences = True, \n",
    "        input_shape = (X_train.shape[1], 1)\n",
    "    )\n",
    ")\n",
    "model.add(\n",
    "    LSTM(50, return_sequences = True)\n",
    ")\n",
    "model.add(\n",
    "    LSTM(50, return_sequences = True)\n",
    ")\n",
    "model.add(LSTM(50))\n",
    "model.add(Dense(1))"
   ]
  },
  {
   "cell_type": "code",
   "execution_count": 12,
   "metadata": {},
   "outputs": [
    {
     "name": "stdout",
     "output_type": "stream",
     "text": [
      "WARNING:tensorflow:From /home/bitai/anaconda3/lib/python3.7/site-packages/keras/optimizers.py:793: The name tf.train.Optimizer is deprecated. Please use tf.compat.v1.train.Optimizer instead.\n",
      "\n",
      "WARNING:tensorflow:From /home/bitai/anaconda3/lib/python3.7/site-packages/tensorflow/python/ops/math_grad.py:1250: add_dispatch_support.<locals>.wrapper (from tensorflow.python.ops.array_ops) is deprecated and will be removed in a future version.\n",
      "Instructions for updating:\n",
      "Use tf.where in 2.0, which has the same broadcast rule as np.where\n",
      "WARNING:tensorflow:From /home/bitai/anaconda3/lib/python3.7/site-packages/keras/backend/tensorflow_backend.py:1033: The name tf.assign_add is deprecated. Please use tf.compat.v1.assign_add instead.\n",
      "\n",
      "WARNING:tensorflow:From /home/bitai/anaconda3/lib/python3.7/site-packages/keras/backend/tensorflow_backend.py:1020: The name tf.assign is deprecated. Please use tf.compat.v1.assign instead.\n",
      "\n",
      "Epoch 1/100\n",
      "1198/1198 [==============================] - 5s 4ms/step - loss: 0.0377\n",
      "Epoch 2/100\n",
      "1198/1198 [==============================] - 3s 2ms/step - loss: 0.0023\n",
      "Epoch 3/100\n",
      "1198/1198 [==============================] - 3s 2ms/step - loss: 0.0020\n",
      "Epoch 4/100\n",
      "1198/1198 [==============================] - 3s 2ms/step - loss: 0.0020\n",
      "Epoch 5/100\n",
      "1198/1198 [==============================] - 3s 2ms/step - loss: 0.0019\n",
      "Epoch 6/100\n",
      "1198/1198 [==============================] - 3s 2ms/step - loss: 0.0016\n",
      "Epoch 7/100\n",
      "1198/1198 [==============================] - 3s 2ms/step - loss: 0.0015\n",
      "Epoch 8/100\n",
      "1198/1198 [==============================] - 3s 2ms/step - loss: 0.0014\n",
      "Epoch 9/100\n",
      "1198/1198 [==============================] - 3s 2ms/step - loss: 0.0013\n",
      "Epoch 10/100\n",
      "1198/1198 [==============================] - 3s 2ms/step - loss: 0.0012\n",
      "Epoch 11/100\n",
      "1198/1198 [==============================] - 3s 2ms/step - loss: 0.0013\n",
      "Epoch 12/100\n",
      "1198/1198 [==============================] - 3s 2ms/step - loss: 0.0012\n",
      "Epoch 13/100\n",
      "1198/1198 [==============================] - 3s 2ms/step - loss: 0.0011\n",
      "Epoch 14/100\n",
      "1198/1198 [==============================] - 3s 2ms/step - loss: 0.0011\n",
      "Epoch 15/100\n",
      "1198/1198 [==============================] - 3s 2ms/step - loss: 0.0011\n",
      "Epoch 16/100\n",
      "1198/1198 [==============================] - 3s 2ms/step - loss: 0.0012\n",
      "Epoch 17/100\n",
      "1198/1198 [==============================] - 3s 2ms/step - loss: 9.8882e-04\n",
      "Epoch 18/100\n",
      "1198/1198 [==============================] - 3s 2ms/step - loss: 0.0010\n",
      "Epoch 19/100\n",
      "1198/1198 [==============================] - 3s 2ms/step - loss: 9.3260e-04\n",
      "Epoch 20/100\n",
      "1198/1198 [==============================] - 3s 2ms/step - loss: 9.6171e-04\n",
      "Epoch 21/100\n",
      "1198/1198 [==============================] - 3s 2ms/step - loss: 9.4115e-04\n",
      "Epoch 22/100\n",
      "1198/1198 [==============================] - 3s 2ms/step - loss: 8.7884e-04\n",
      "Epoch 23/100\n",
      "1198/1198 [==============================] - 3s 2ms/step - loss: 8.1698e-04\n",
      "Epoch 24/100\n",
      "1198/1198 [==============================] - 3s 2ms/step - loss: 8.6362e-04\n",
      "Epoch 25/100\n",
      "1198/1198 [==============================] - 3s 2ms/step - loss: 8.1407e-04\n",
      "Epoch 26/100\n",
      "1198/1198 [==============================] - 3s 2ms/step - loss: 7.5333e-04\n",
      "Epoch 27/100\n",
      "1198/1198 [==============================] - 3s 2ms/step - loss: 8.0252e-04\n",
      "Epoch 28/100\n",
      "1198/1198 [==============================] - 3s 2ms/step - loss: 6.6261e-04\n",
      "Epoch 29/100\n",
      "1198/1198 [==============================] - 3s 2ms/step - loss: 7.0699e-04\n",
      "Epoch 30/100\n",
      "1198/1198 [==============================] - 3s 2ms/step - loss: 7.7552e-04\n",
      "Epoch 31/100\n",
      "1198/1198 [==============================] - 3s 2ms/step - loss: 6.6522e-04\n",
      "Epoch 32/100\n",
      "1198/1198 [==============================] - 3s 2ms/step - loss: 5.7378e-04\n",
      "Epoch 33/100\n",
      "1198/1198 [==============================] - 3s 2ms/step - loss: 5.7734e-04\n",
      "Epoch 34/100\n",
      "1198/1198 [==============================] - 3s 2ms/step - loss: 5.3329e-04\n",
      "Epoch 35/100\n",
      "1198/1198 [==============================] - 3s 2ms/step - loss: 5.2249e-04\n",
      "Epoch 36/100\n",
      "1198/1198 [==============================] - 3s 2ms/step - loss: 5.5689e-04\n",
      "Epoch 37/100\n",
      "1198/1198 [==============================] - 3s 2ms/step - loss: 4.9588e-04\n",
      "Epoch 38/100\n",
      "1198/1198 [==============================] - 3s 2ms/step - loss: 4.6080e-04\n",
      "Epoch 39/100\n",
      "1198/1198 [==============================] - 3s 2ms/step - loss: 4.6370e-04\n",
      "Epoch 40/100\n",
      "1198/1198 [==============================] - 3s 2ms/step - loss: 5.1488e-04\n",
      "Epoch 41/100\n",
      "1198/1198 [==============================] - 3s 2ms/step - loss: 5.6320e-04\n",
      "Epoch 42/100\n",
      "1198/1198 [==============================] - 3s 2ms/step - loss: 4.3730e-04\n",
      "Epoch 43/100\n",
      "1198/1198 [==============================] - 3s 2ms/step - loss: 5.2999e-04\n",
      "Epoch 44/100\n",
      "1198/1198 [==============================] - 3s 2ms/step - loss: 5.3979e-04\n",
      "Epoch 45/100\n",
      "1198/1198 [==============================] - 3s 2ms/step - loss: 6.5516e-04\n",
      "Epoch 46/100\n",
      "1198/1198 [==============================] - 3s 2ms/step - loss: 4.2527e-04\n",
      "Epoch 47/100\n",
      "1198/1198 [==============================] - 3s 2ms/step - loss: 5.6936e-04\n",
      "Epoch 48/100\n",
      "1198/1198 [==============================] - 3s 2ms/step - loss: 3.9158e-04\n",
      "Epoch 49/100\n",
      "1198/1198 [==============================] - 3s 2ms/step - loss: 3.8506e-04\n",
      "Epoch 50/100\n",
      "1198/1198 [==============================] - 3s 2ms/step - loss: 4.0040e-04\n",
      "Epoch 51/100\n",
      "1198/1198 [==============================] - 3s 2ms/step - loss: 3.9492e-04\n",
      "Epoch 52/100\n",
      "1198/1198 [==============================] - 3s 2ms/step - loss: 3.5540e-04\n",
      "Epoch 53/100\n",
      "1198/1198 [==============================] - 3s 2ms/step - loss: 3.4778e-04\n",
      "Epoch 54/100\n",
      "1198/1198 [==============================] - 3s 3ms/step - loss: 3.9924e-04\n",
      "Epoch 55/100\n",
      "1198/1198 [==============================] - 3s 2ms/step - loss: 3.6777e-04\n",
      "Epoch 56/100\n",
      "1198/1198 [==============================] - 3s 2ms/step - loss: 3.2321e-04\n",
      "Epoch 57/100\n",
      "1198/1198 [==============================] - 3s 2ms/step - loss: 3.0923e-04\n",
      "Epoch 58/100\n",
      "1198/1198 [==============================] - 3s 2ms/step - loss: 3.5111e-04\n",
      "Epoch 59/100\n",
      "1198/1198 [==============================] - 3s 2ms/step - loss: 3.2512e-04\n",
      "Epoch 60/100\n",
      "1198/1198 [==============================] - 3s 2ms/step - loss: 3.0662e-04\n",
      "Epoch 61/100\n",
      "1198/1198 [==============================] - 3s 2ms/step - loss: 3.0477e-04\n",
      "Epoch 62/100\n",
      "1198/1198 [==============================] - 3s 2ms/step - loss: 2.9989e-04\n",
      "Epoch 63/100\n",
      "1198/1198 [==============================] - 3s 2ms/step - loss: 3.0020e-04\n",
      "Epoch 64/100\n",
      "1198/1198 [==============================] - 3s 2ms/step - loss: 3.3595e-04\n",
      "Epoch 65/100\n",
      "1198/1198 [==============================] - 3s 2ms/step - loss: 3.1882e-04\n",
      "Epoch 66/100\n",
      "1198/1198 [==============================] - 3s 2ms/step - loss: 3.0548e-04\n",
      "Epoch 67/100\n",
      "1198/1198 [==============================] - 3s 2ms/step - loss: 3.7648e-04\n",
      "Epoch 68/100\n",
      "1198/1198 [==============================] - 3s 2ms/step - loss: 3.5075e-04\n",
      "Epoch 69/100\n",
      "1198/1198 [==============================] - 3s 2ms/step - loss: 2.6397e-04\n",
      "Epoch 70/100\n",
      "1198/1198 [==============================] - 3s 2ms/step - loss: 3.0562e-04\n",
      "Epoch 71/100\n",
      "1198/1198 [==============================] - 3s 2ms/step - loss: 2.8889e-04\n",
      "Epoch 72/100\n",
      "1198/1198 [==============================] - 3s 2ms/step - loss: 2.6049e-04\n",
      "Epoch 73/100\n",
      "1198/1198 [==============================] - 3s 2ms/step - loss: 2.6148e-04\n",
      "Epoch 74/100\n",
      "1198/1198 [==============================] - 3s 2ms/step - loss: 2.5117e-04\n",
      "Epoch 75/100\n",
      "1198/1198 [==============================] - 3s 2ms/step - loss: 2.4644e-04\n",
      "Epoch 76/100\n",
      "1198/1198 [==============================] - 3s 2ms/step - loss: 2.6692e-04\n",
      "Epoch 77/100\n",
      "1198/1198 [==============================] - 3s 2ms/step - loss: 2.7206e-04\n",
      "Epoch 78/100\n",
      "1198/1198 [==============================] - 3s 2ms/step - loss: 2.5528e-04\n",
      "Epoch 79/100\n",
      "1198/1198 [==============================] - 3s 2ms/step - loss: 2.7269e-04\n",
      "Epoch 80/100\n",
      "1198/1198 [==============================] - 3s 2ms/step - loss: 2.4934e-04\n",
      "Epoch 81/100\n",
      "1198/1198 [==============================] - 3s 2ms/step - loss: 2.7160e-04\n",
      "Epoch 82/100\n",
      "1198/1198 [==============================] - 3s 2ms/step - loss: 3.5624e-04\n",
      "Epoch 83/100\n"
     ]
    },
    {
     "name": "stdout",
     "output_type": "stream",
     "text": [
      "1198/1198 [==============================] - 3s 2ms/step - loss: 2.6336e-04\n",
      "Epoch 84/100\n",
      "1198/1198 [==============================] - 3s 2ms/step - loss: 2.3264e-04\n",
      "Epoch 85/100\n",
      "1198/1198 [==============================] - 3s 2ms/step - loss: 2.3760e-04\n",
      "Epoch 86/100\n",
      "1198/1198 [==============================] - 3s 2ms/step - loss: 2.5981e-04\n",
      "Epoch 87/100\n",
      "1198/1198 [==============================] - 3s 2ms/step - loss: 2.4937e-04\n",
      "Epoch 88/100\n",
      "1198/1198 [==============================] - 3s 2ms/step - loss: 2.9646e-04\n",
      "Epoch 89/100\n",
      "1198/1198 [==============================] - 3s 2ms/step - loss: 2.6913e-04\n",
      "Epoch 90/100\n",
      "1198/1198 [==============================] - 3s 2ms/step - loss: 2.7781e-04\n",
      "Epoch 91/100\n",
      "1198/1198 [==============================] - 3s 2ms/step - loss: 2.8951e-04\n",
      "Epoch 92/100\n",
      "1198/1198 [==============================] - 3s 2ms/step - loss: 2.3681e-04\n",
      "Epoch 93/100\n",
      "1198/1198 [==============================] - 3s 2ms/step - loss: 2.4426e-04\n",
      "Epoch 94/100\n",
      "1198/1198 [==============================] - 3s 2ms/step - loss: 2.3621e-04\n",
      "Epoch 95/100\n",
      "1198/1198 [==============================] - 3s 2ms/step - loss: 3.3586e-04\n",
      "Epoch 96/100\n",
      "1198/1198 [==============================] - 3s 2ms/step - loss: 2.7460e-04\n",
      "Epoch 97/100\n",
      "1198/1198 [==============================] - 3s 2ms/step - loss: 2.4322e-04\n",
      "Epoch 98/100\n",
      "1198/1198 [==============================] - 3s 2ms/step - loss: 2.4867e-04\n",
      "Epoch 99/100\n",
      "1198/1198 [==============================] - 3s 2ms/step - loss: 2.3002e-04\n",
      "Epoch 100/100\n",
      "1198/1198 [==============================] - 3s 2ms/step - loss: 2.6611e-04\n"
     ]
    },
    {
     "data": {
      "text/plain": [
       "<keras.callbacks.History at 0x7f84f6eb0490>"
      ]
     },
     "execution_count": 12,
     "metadata": {},
     "output_type": "execute_result"
    }
   ],
   "source": [
    "model.compile(\n",
    "    optimizer = 'adam',\n",
    "    loss = 'mean_squared_error'\n",
    ")\n",
    "model.fit(\n",
    "    X_train, y_train, epochs = 100, batch_size = 32\n",
    ")"
   ]
  },
  {
   "cell_type": "code",
   "execution_count": 13,
   "metadata": {},
   "outputs": [
    {
     "data": {
      "text/html": [
       "<div>\n",
       "<style scoped>\n",
       "    .dataframe tbody tr th:only-of-type {\n",
       "        vertical-align: middle;\n",
       "    }\n",
       "\n",
       "    .dataframe tbody tr th {\n",
       "        vertical-align: top;\n",
       "    }\n",
       "\n",
       "    .dataframe thead th {\n",
       "        text-align: right;\n",
       "    }\n",
       "</style>\n",
       "<table border=\"1\" class=\"dataframe\">\n",
       "  <thead>\n",
       "    <tr style=\"text-align: right;\">\n",
       "      <th></th>\n",
       "      <th>Date</th>\n",
       "      <th>Open</th>\n",
       "      <th>High</th>\n",
       "      <th>Low</th>\n",
       "      <th>Close</th>\n",
       "      <th>Adj Close</th>\n",
       "      <th>Volume</th>\n",
       "    </tr>\n",
       "  </thead>\n",
       "  <tbody>\n",
       "    <tr>\n",
       "      <th>0</th>\n",
       "      <td>02-01-2019</td>\n",
       "      <td>154.889999</td>\n",
       "      <td>158.850006</td>\n",
       "      <td>154.229996</td>\n",
       "      <td>157.919998</td>\n",
       "      <td>157.245605</td>\n",
       "      <td>37039700</td>\n",
       "    </tr>\n",
       "    <tr>\n",
       "      <th>1</th>\n",
       "      <td>03-01-2019</td>\n",
       "      <td>143.979996</td>\n",
       "      <td>145.720001</td>\n",
       "      <td>142.000000</td>\n",
       "      <td>142.190002</td>\n",
       "      <td>141.582779</td>\n",
       "      <td>91244100</td>\n",
       "    </tr>\n",
       "    <tr>\n",
       "      <th>2</th>\n",
       "      <td>04-01-2019</td>\n",
       "      <td>144.529999</td>\n",
       "      <td>148.550003</td>\n",
       "      <td>143.800003</td>\n",
       "      <td>148.259995</td>\n",
       "      <td>147.626846</td>\n",
       "      <td>58607100</td>\n",
       "    </tr>\n",
       "    <tr>\n",
       "      <th>3</th>\n",
       "      <td>07-01-2019</td>\n",
       "      <td>148.699997</td>\n",
       "      <td>148.830002</td>\n",
       "      <td>145.899994</td>\n",
       "      <td>147.929993</td>\n",
       "      <td>147.298264</td>\n",
       "      <td>54777800</td>\n",
       "    </tr>\n",
       "    <tr>\n",
       "      <th>4</th>\n",
       "      <td>08-01-2019</td>\n",
       "      <td>149.559998</td>\n",
       "      <td>151.820007</td>\n",
       "      <td>148.520004</td>\n",
       "      <td>150.750000</td>\n",
       "      <td>150.106216</td>\n",
       "      <td>41025300</td>\n",
       "    </tr>\n",
       "  </tbody>\n",
       "</table>\n",
       "</div>"
      ],
      "text/plain": [
       "         Date        Open        High         Low       Close   Adj Close  \\\n",
       "0  02-01-2019  154.889999  158.850006  154.229996  157.919998  157.245605   \n",
       "1  03-01-2019  143.979996  145.720001  142.000000  142.190002  141.582779   \n",
       "2  04-01-2019  144.529999  148.550003  143.800003  148.259995  147.626846   \n",
       "3  07-01-2019  148.699997  148.830002  145.899994  147.929993  147.298264   \n",
       "4  08-01-2019  149.559998  151.820007  148.520004  150.750000  150.106216   \n",
       "\n",
       "     Volume  \n",
       "0  37039700  \n",
       "1  91244100  \n",
       "2  58607100  \n",
       "3  54777800  \n",
       "4  41025300  "
      ]
     },
     "execution_count": 13,
     "metadata": {},
     "output_type": "execute_result"
    }
   ],
   "source": [
    "testSet = pd.read_csv(\n",
    "    'Applied-Deep-Learning-with-Keras' +\n",
    "    '/Lesson09/AAPL_test.csv'\n",
    ")\n",
    "testSet.head()"
   ]
  },
  {
   "cell_type": "code",
   "execution_count": 14,
   "metadata": {},
   "outputs": [
    {
     "data": {
      "text/plain": [
       "array([[154.889999],\n",
       "       [143.979996],\n",
       "       [144.529999],\n",
       "       [148.699997],\n",
       "       [149.559998],\n",
       "       [151.289993],\n",
       "       [152.5     ],\n",
       "       [152.880005],\n",
       "       [150.850006],\n",
       "       [150.270004],\n",
       "       [153.080002],\n",
       "       [154.199997],\n",
       "       [157.5     ],\n",
       "       [156.410004],\n",
       "       [154.149994],\n",
       "       [154.110001],\n",
       "       [155.479996],\n",
       "       [155.789993],\n",
       "       [156.25    ],\n",
       "       [163.25    ],\n",
       "       [166.110001]])"
      ]
     },
     "execution_count": 14,
     "metadata": {},
     "output_type": "execute_result"
    }
   ],
   "source": [
    "actualStock = testSet.iloc[:, 1:2].values\n",
    "actualStock"
   ]
  },
  {
   "cell_type": "code",
   "execution_count": 15,
   "metadata": {},
   "outputs": [
    {
     "data": {
      "text/plain": [
       "0     154.889999\n",
       "1     143.979996\n",
       "2     144.529999\n",
       "3     148.699997\n",
       "4     149.559998\n",
       "5     151.289993\n",
       "6     152.500000\n",
       "7     152.880005\n",
       "8     150.850006\n",
       "9     150.270004\n",
       "10    153.080002\n",
       "11    154.199997\n",
       "12    157.500000\n",
       "13    156.410004\n",
       "14    154.149994\n",
       "15    154.110001\n",
       "16    155.479996\n",
       "17    155.789993\n",
       "18    156.250000\n",
       "19    163.250000\n",
       "20    166.110001\n",
       "Name: Open, dtype: float64"
      ]
     },
     "execution_count": 15,
     "metadata": {},
     "output_type": "execute_result"
    }
   ],
   "source": [
    "testSet['Open']"
   ]
  },
  {
   "cell_type": "code",
   "execution_count": 16,
   "metadata": {
    "scrolled": true
   },
   "outputs": [
    {
     "data": {
      "text/plain": [
       "0        79.382858\n",
       "1        78.980003\n",
       "2        76.778572\n",
       "3        77.760002\n",
       "4        76.972855\n",
       "           ...    \n",
       "1253    148.149994\n",
       "1254    148.300003\n",
       "1255    155.839996\n",
       "1256    157.500000\n",
       "1257    158.529999\n",
       "Name: Open, Length: 1258, dtype: float64"
      ]
     },
     "execution_count": 16,
     "metadata": {},
     "output_type": "execute_result"
    }
   ],
   "source": [
    "trainSet['Open']"
   ]
  },
  {
   "cell_type": "code",
   "execution_count": 17,
   "metadata": {},
   "outputs": [],
   "source": [
    "total = pd.concat(\n",
    "    (trainSet['Open'], testSet['Open']),\n",
    "    axis = 0\n",
    ")"
   ]
  },
  {
   "cell_type": "code",
   "execution_count": 18,
   "metadata": {},
   "outputs": [],
   "source": [
    "inputs = total[len(total) - len(testSet) - 60:].values\n",
    "inputs = inputs.reshape(-1, 1)\n",
    "inputs = sc.transform(inputs)\n",
    "\n",
    "X_test = []\n",
    "for i in range(60, 81):\n",
    "    X_test.append(inputs[i - 60:i, 0])\n",
    "    \n",
    "X_test = np.array(X_test)\n",
    "X_test = np.reshape(\n",
    "    X_test, \n",
    "    (X_test.shape[0], X_test.shape[1], 1)\n",
    ")\n",
    "\n",
    "predictedStock = model.predict(X_test)\n",
    "predictedStock = sc.inverse_transform(predictedStock)"
   ]
  },
  {
   "cell_type": "code",
   "execution_count": 19,
   "metadata": {},
   "outputs": [
    {
     "data": {
      "image/png": "[encoded data removed]",
      "text/plain": [
       "<Figure size 432x288 with 1 Axes>"
      ]
     },
     "metadata": {
      "needs_background": "light"
     },
     "output_type": "display_data"
    }
   ],
   "source": [
    "plt.plot(\n",
    "    actualStock, color = 'green', \n",
    "    label = 'Real Apple Stock', ls='--'\n",
    ")\n",
    "plt.plot(\n",
    "    predictedStock, color = 'red', \n",
    "    label = 'Predicted Apple Stock', ls='-'\n",
    ")\n",
    "plt.title('Predicted Stock Price')\n",
    "plt.xlabel('Time in days')\n",
    "plt.ylabel('Real Stock Price')\n",
    "plt.legend()\n",
    "plt.show()\n",
    "# IIR 필터의 특성이 나타나고 있음\n",
    "# 위상이 뒤틀린다."
   ]
  },
  {
   "cell_type": "code",
   "execution_count": 20,
   "metadata": {},
   "outputs": [],
   "source": [
    "from keras.applications.vgg16 import decode_predictions\n",
    "from keras.applications.vgg16 import preprocess_input\n",
    "from keras.applications.resnet50 import ResNet50\n",
    "from keras.preprocessing import image\n",
    "\n",
    "import numpy as np"
   ]
  },
  {
   "cell_type": "code",
   "execution_count": 21,
   "metadata": {},
   "outputs": [],
   "source": [
    "def prepare_img(img, target):\n",
    "    img = img.resize(target)\n",
    "    img = img_to_array(img)\n",
    "    img = np.expand_dims(img, axis = 0)\n",
    "    img = imagenet_utils.preprocess_input(img)\n",
    "    \n",
    "    return img"
   ]
  },
  {
   "cell_type": "code",
   "execution_count": 22,
   "metadata": {},
   "outputs": [],
   "source": [
    "resModel = None\n",
    "\n",
    "def load_model():\n",
    "    global resModel\n",
    "    resModel = ResNet50()"
   ]
  },
  {
   "cell_type": "code",
   "execution_count": 23,
   "metadata": {
    "scrolled": true
   },
   "outputs": [
    {
     "name": "stdout",
     "output_type": "stream",
     "text": [
      "1.14.0\n"
     ]
    }
   ],
   "source": [
    "import keras.backend.tensorflow_backend as tb\n",
    "import tensorflow as tf\n",
    "\n",
    "global graph, model\n",
    "graph = tf.get_default_graph()\n",
    "\n",
    "print(tf.__version__)"
   ]
  },
  {
   "cell_type": "code",
   "execution_count": 24,
   "metadata": {},
   "outputs": [],
   "source": [
    "from flask import Flask, request, jsonify\n",
    "from werkzeug.utils import secure_filename"
   ]
  },
  {
   "cell_type": "code",
   "execution_count": null,
   "metadata": {},
   "outputs": [
    {
     "name": "stdout",
     "output_type": "stream",
     "text": [
      "WARNING:tensorflow:From /home/bitai/anaconda3/lib/python3.7/site-packages/keras/backend/tensorflow_backend.py:2041: The name tf.nn.fused_batch_norm is deprecated. Please use tf.compat.v1.nn.fused_batch_norm instead.\n",
      "\n",
      "WARNING:tensorflow:From /home/bitai/anaconda3/lib/python3.7/site-packages/keras/backend/tensorflow_backend.py:4267: The name tf.nn.max_pool is deprecated. Please use tf.nn.max_pool2d instead.\n",
      "\n",
      " * Serving Flask app \"__main__\" (lazy loading)\n",
      " * Environment: production\n",
      "   WARNING: This is a development server. Do not use it in a production deployment.\n",
      "   Use a production WSGI server instead.\n",
      " * Debug mode: off\n"
     ]
    },
    {
     "name": "stderr",
     "output_type": "stream",
     "text": [
      " * Running on http://127.0.0.1:5000/ (Press CTRL+C to quit)\n",
      "[2020-07-20 15:58:06,922] ERROR in app: Exception on /imgServer [POST]\n",
      "Traceback (most recent call last):\n",
      "  File \"/home/bitai/anaconda3/lib/python3.7/site-packages/PIL/Image.py\", line 2813, in open\n",
      "    fp.seek(0)\n",
      "AttributeError: 'str' object has no attribute 'seek'\n",
      "\n",
      "During handling of the above exception, another exception occurred:\n",
      "\n",
      "Traceback (most recent call last):\n",
      "  File \"/home/bitai/anaconda3/lib/python3.7/site-packages/flask/app.py\", line 2446, in wsgi_app\n",
      "    response = self.full_dispatch_request()\n",
      "  File \"/home/bitai/anaconda3/lib/python3.7/site-packages/flask/app.py\", line 1951, in full_dispatch_request\n",
      "    rv = self.handle_user_exception(e)\n",
      "  File \"/home/bitai/anaconda3/lib/python3.7/site-packages/flask/app.py\", line 1820, in handle_user_exception\n",
      "    reraise(exc_type, exc_value, tb)\n",
      "  File \"/home/bitai/anaconda3/lib/python3.7/site-packages/flask/_compat.py\", line 39, in reraise\n",
      "    raise value\n",
      "  File \"/home/bitai/anaconda3/lib/python3.7/site-packages/flask/app.py\", line 1949, in full_dispatch_request\n",
      "    rv = self.dispatch_request()\n",
      "  File \"/home/bitai/anaconda3/lib/python3.7/site-packages/flask/app.py\", line 1935, in dispatch_request\n",
      "    return self.view_functions[rule.endpoint](**req.view_args)\n",
      "  File \"<ipython-input-25-c515d72e027e>\", line 13, in analysis_img\n",
      "    file, target_size = (224, 224)\n",
      "  File \"/home/bitai/anaconda3/lib/python3.7/site-packages/keras_preprocessing/image/utils.py\", line 110, in load_img\n",
      "    img = pil_image.open(path)\n",
      "  File \"/home/bitai/anaconda3/lib/python3.7/site-packages/PIL/Image.py\", line 2815, in open\n",
      "    fp = io.BytesIO(fp.read())\n",
      "AttributeError: 'str' object has no attribute 'read'\n",
      "127.0.0.1 - - [20/Jul/2020 15:58:06] \"\u001b[35m\u001b[1mPOST /imgServer HTTP/1.1\u001b[0m\" 500 -\n",
      "127.0.0.1 - - [20/Jul/2020 15:58:07] \"\u001b[33mGET /favicon.ico HTTP/1.1\u001b[0m\" 404 -\n"
     ]
    },
    {
     "name": "stdout",
     "output_type": "stream",
     "text": [
      "POST\n",
      "\n"
     ]
    },
    {
     "name": "stderr",
     "output_type": "stream",
     "text": [
      "127.0.0.1 - - [20/Jul/2020 15:58:09] \"\u001b[33mGET /dataServer HTTP/1.1\u001b[0m\" 404 -\n",
      "127.0.0.1 - - [20/Jul/2020 15:59:19] \"\u001b[33mGET /dataServer HTTP/1.1\u001b[0m\" 404 -\n",
      "127.0.0.1 - - [20/Jul/2020 15:59:22] \"\u001b[33mGET /dataServer HTTP/1.1\u001b[0m\" 404 -\n",
      "127.0.0.1 - - [20/Jul/2020 15:59:28] \"\u001b[33mGET /dataServer HTTP/1.1\u001b[0m\" 404 -\n",
      "127.0.0.1 - - [20/Jul/2020 15:59:40] \"\u001b[33mGET /dataServer HTTP/1.1\u001b[0m\" 404 -\n"
     ]
    },
    {
     "name": "stdout",
     "output_type": "stream",
     "text": [
      "POST\n",
      "test_image_2.jpg\n",
      "(1, 224, 224, 3)\n",
      "Downloading data from https://storage.googleapis.com/download.tensorflow.org/data/imagenet_class_index.json\n",
      "40960/35363 [==================================] - 0s 0us/step\n"
     ]
    },
    {
     "name": "stderr",
     "output_type": "stream",
     "text": [
      "127.0.0.1 - - [20/Jul/2020 16:00:12] \"\u001b[37mPOST /imgServer HTTP/1.1\u001b[0m\" 200 -\n",
      "[2020-07-20 16:00:52,422] ERROR in app: Exception on /imgServer [POST]\n",
      "Traceback (most recent call last):\n",
      "  File \"/home/bitai/anaconda3/lib/python3.7/site-packages/flask/app.py\", line 2446, in wsgi_app\n",
      "    response = self.full_dispatch_request()\n",
      "  File \"/home/bitai/anaconda3/lib/python3.7/site-packages/flask/app.py\", line 1951, in full_dispatch_request\n",
      "    rv = self.handle_user_exception(e)\n",
      "  File \"/home/bitai/anaconda3/lib/python3.7/site-packages/flask/app.py\", line 1820, in handle_user_exception\n",
      "    reraise(exc_type, exc_value, tb)\n",
      "  File \"/home/bitai/anaconda3/lib/python3.7/site-packages/flask/_compat.py\", line 39, in reraise\n",
      "    raise value\n",
      "  File \"/home/bitai/anaconda3/lib/python3.7/site-packages/flask/app.py\", line 1949, in full_dispatch_request\n",
      "    rv = self.dispatch_request()\n",
      "  File \"/home/bitai/anaconda3/lib/python3.7/site-packages/flask/app.py\", line 1935, in dispatch_request\n",
      "    return self.view_functions[rule.endpoint](**req.view_args)\n",
      "  File \"<ipython-input-25-c515d72e027e>\", line 13, in analysis_img\n",
      "    file, target_size = (224, 224)\n",
      "  File \"/home/bitai/anaconda3/lib/python3.7/site-packages/keras_preprocessing/image/utils.py\", line 110, in load_img\n",
      "    img = pil_image.open(path)\n",
      "  File \"/home/bitai/anaconda3/lib/python3.7/site-packages/PIL/Image.py\", line 2809, in open\n",
      "    fp = builtins.open(filename, \"rb\")\n",
      "FileNotFoundError: [Errno 2] No such file or directory: 'test_image_1.jpg'\n",
      "127.0.0.1 - - [20/Jul/2020 16:00:52] \"\u001b[35m\u001b[1mPOST /imgServer HTTP/1.1\u001b[0m\" 500 -\n"
     ]
    },
    {
     "name": "stdout",
     "output_type": "stream",
     "text": [
      "POST\n",
      "test_image_1.jpg\n"
     ]
    },
    {
     "name": "stderr",
     "output_type": "stream",
     "text": [
      "[2020-07-20 16:00:54,821] ERROR in app: Exception on /imgServer [POST]\n",
      "Traceback (most recent call last):\n",
      "  File \"/home/bitai/anaconda3/lib/python3.7/site-packages/flask/app.py\", line 2446, in wsgi_app\n",
      "    response = self.full_dispatch_request()\n",
      "  File \"/home/bitai/anaconda3/lib/python3.7/site-packages/flask/app.py\", line 1951, in full_dispatch_request\n",
      "    rv = self.handle_user_exception(e)\n",
      "  File \"/home/bitai/anaconda3/lib/python3.7/site-packages/flask/app.py\", line 1820, in handle_user_exception\n",
      "    reraise(exc_type, exc_value, tb)\n",
      "  File \"/home/bitai/anaconda3/lib/python3.7/site-packages/flask/_compat.py\", line 39, in reraise\n",
      "    raise value\n",
      "  File \"/home/bitai/anaconda3/lib/python3.7/site-packages/flask/app.py\", line 1949, in full_dispatch_request\n",
      "    rv = self.dispatch_request()\n",
      "  File \"/home/bitai/anaconda3/lib/python3.7/site-packages/flask/app.py\", line 1935, in dispatch_request\n",
      "    return self.view_functions[rule.endpoint](**req.view_args)\n",
      "  File \"<ipython-input-25-c515d72e027e>\", line 13, in analysis_img\n",
      "    file, target_size = (224, 224)\n",
      "  File \"/home/bitai/anaconda3/lib/python3.7/site-packages/keras_preprocessing/image/utils.py\", line 110, in load_img\n",
      "    img = pil_image.open(path)\n",
      "  File \"/home/bitai/anaconda3/lib/python3.7/site-packages/PIL/Image.py\", line 2809, in open\n",
      "    fp = builtins.open(filename, \"rb\")\n",
      "FileNotFoundError: [Errno 2] No such file or directory: 'test_image_1.jpg'\n",
      "127.0.0.1 - - [20/Jul/2020 16:00:54] \"\u001b[35m\u001b[1mPOST /imgServer HTTP/1.1\u001b[0m\" 500 -\n"
     ]
    },
    {
     "name": "stdout",
     "output_type": "stream",
     "text": [
      "POST\n",
      "test_image_1.jpg\n"
     ]
    },
    {
     "name": "stderr",
     "output_type": "stream",
     "text": [
      "127.0.0.1 - - [20/Jul/2020 16:00:56] \"\u001b[33mGET /dataServer HTTP/1.1\u001b[0m\" 404 -\n",
      "127.0.0.1 - - [20/Jul/2020 16:01:00] \"\u001b[37mPOST /imgServer HTTP/1.1\u001b[0m\" 200 -\n"
     ]
    },
    {
     "name": "stdout",
     "output_type": "stream",
     "text": [
      "POST\n",
      "test_image_3.jpg\n",
      "(1, 224, 224, 3)\n"
     ]
    }
   ],
   "source": [
    "app = Flask(__name__)\n",
    "\n",
    "@app.route('/imgServer', methods = ['GET', 'POST'])\n",
    "def analysis_img():\n",
    "    data = {\"success\": False}\n",
    "    if request.method == 'POST':\n",
    "        print('POST')\n",
    "        file = request.files['file']\n",
    "        file = secure_filename(file.filename)\n",
    "        print(file)\n",
    "        \n",
    "        sea_img = image.load_img(\n",
    "            file, target_size = (224, 224)\n",
    "        )\n",
    "        \n",
    "        trans_img = image.img_to_array(sea_img)\n",
    "        trans_img = np.expand_dims(trans_img, axis = 0)\n",
    "        trans_img = preprocess_input(trans_img)\n",
    "        print(trans_img.shape)\n",
    "        \n",
    "        \n",
    "        # with 실행을 시키고 꺼주는 역할\n",
    "        with graph.as_default():\n",
    "            pred = resModel.predict(trans_img)\n",
    "            \n",
    "        label = decode_predictions(pred)\n",
    "        data[\"predictions\"] = []\n",
    "        \n",
    "        for (imageNetID, label, prob) in label[0]:\n",
    "            r = {\n",
    "                \"label\": label, \n",
    "                \"probability\": float(prob)\n",
    "            }\n",
    "            data[\"predictions\"].append(r)\n",
    "            \n",
    "        data[\"success\"] = True\n",
    "        \n",
    "    return jsonify(data)\n",
    "\n",
    "if __name__ == \"__main__\":\n",
    "    load_model()\n",
    "    app.run()"
   ]
  },
  {
   "cell_type": "code",
   "execution_count": null,
   "metadata": {},
   "outputs": [],
   "source": []
  }
 ],
 "metadata": {
  "kernelspec": {
   "display_name": "Python 3",
   "language": "python",
   "name": "python3"
  },
  "language_info": {
   "codemirror_mode": {
    "name": "ipython",
    "version": 3
   },
   "file_extension": ".py",
   "mimetype": "text/x-python",
   "name": "python",
   "nbconvert_exporter": "python",
   "pygments_lexer": "ipython3",
   "version": "3.7.6"
  }
 },
 "nbformat": 4,
 "nbformat_minor": 4
}
